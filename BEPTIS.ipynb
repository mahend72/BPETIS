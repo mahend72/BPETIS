{
  "nbformat": 4,
  "nbformat_minor": 0,
  "metadata": {
    "colab": {
      "provenance": [],
      "authorship_tag": "ABX9TyOhP0BnICmvEGgCgzpx2cpq",
      "include_colab_link": true
    },
    "kernelspec": {
      "name": "python3",
      "display_name": "Python 3"
    },
    "language_info": {
      "name": "python"
    }
  },
  "cells": [
    {
      "cell_type": "markdown",
      "metadata": {
        "id": "view-in-github",
        "colab_type": "text"
      },
      "source": [
        "<a href=\"https://colab.research.google.com/github/mahend72/BPETIS/blob/main/BEPTIS.ipynb\" target=\"_parent\"><img src=\"https://colab.research.google.com/assets/colab-badge.svg\" alt=\"Open In Colab\"/></a>"
      ]
    },
    {
      "cell_type": "markdown",
      "source": [
        "# **1. Homomorphic encryption**"
      ],
      "metadata": {
        "id": "XYT522NCUywO"
      }
    },
    {
      "cell_type": "markdown",
      "source": [
        "**1.1 Install tenseal**"
      ],
      "metadata": {
        "id": "d0sjv_EMW0Ks"
      }
    },
    {
      "cell_type": "code",
      "source": [
        "pip install tenseal"
      ],
      "metadata": {
        "colab": {
          "base_uri": "https://localhost:8080/"
        },
        "id": "d74wRHOsWzHB",
        "outputId": "cd76bea9-db43-4df8-bd41-0fab5c383280"
      },
      "execution_count": null,
      "outputs": [
        {
          "output_type": "stream",
          "name": "stdout",
          "text": [
            "Collecting tenseal\n",
            "  Downloading tenseal-0.3.14-cp310-cp310-manylinux_2_17_x86_64.manylinux2014_x86_64.whl (4.9 MB)\n",
            "\u001b[2K     \u001b[90m━━━━━━━━━━━━━━━━━━━━━━━━━━━━━━━━━━━━━━━━\u001b[0m \u001b[32m4.9/4.9 MB\u001b[0m \u001b[31m15.4 MB/s\u001b[0m eta \u001b[36m0:00:00\u001b[0m\n",
            "\u001b[?25hInstalling collected packages: tenseal\n",
            "Successfully installed tenseal-0.3.14\n"
          ]
        }
      ]
    },
    {
      "cell_type": "code",
      "source": [
        "def map_to_list(list1, list2):\n",
        "\n",
        "    # Initialize a list with zeros\n",
        "    IOC_severity = [0] * len(list2)\n",
        "\n",
        "    # Map the input caste category to the list\n",
        "    try:\n",
        "        index = list1.index(list1)\n",
        "        IOC_severity[index] = 1\n",
        "    except ValueError:\n",
        "        print(\"Invalid value.\")\n",
        "\n",
        "    return IOC_severity"
      ],
      "metadata": {
        "id": "35gej52mXG84"
      },
      "execution_count": null,
      "outputs": []
    },
    {
      "cell_type": "markdown",
      "source": [
        "**1.2 Encrypt sensitive IOCs information inclusing severity score and risk level**"
      ],
      "metadata": {
        "id": "4TeNnXtjU7t_"
      }
    },
    {
      "cell_type": "code",
      "source": [
        "import tenseal as ts\n",
        "import numpy as np\n",
        "import time\n",
        "\n",
        "\n",
        "def context():\n",
        "    context = ts.context(ts.SCHEME_TYPE.CKKS, 8192, coeff_mod_bit_sizes=[60, 40, 40, 60])\n",
        "    context.global_scale = pow(2, 40)\n",
        "    context.generate_galois_keys()\n",
        "    return context\n",
        "\n",
        "context = context()\n",
        "\n",
        "risk_level = [\"Critical\", \"High\", \"medium\", \"low\", \"Unknown\"]\n",
        "\n",
        "input_IOC_sev = \"8.055\"\n",
        "\n",
        "input_risk_level = \"High\"\n",
        "\n",
        "\n",
        "#output_IOC_sev = map_to_list(input_IOC_sev, IOC_sev)\n",
        "output_risk_level = map_to_list(input_risk_level, risk_level)\n",
        "\n",
        "\n",
        "print(f\"IOC severity: {input_IOC_sev}\")\n",
        "print(f\"risk: {output_risk_level}\")\n",
        "\n",
        "start_time = time.time()\n",
        "\n",
        "encrypted_input_IOC_sev = ts.ckks_tensor(context, [input_IOC_sev])\n",
        "encrypted_input_risk_level = ts.ckks_tensor(context, ts.plain_tensor(output_risk_level, [len(output_risk_level), 1]))\n",
        "\n",
        "print(\"Encrypted severity\",encrypted_input_IOC_sev)\n",
        "print(\"Encrypted risk level\", encrypted_input_risk_level )\n",
        "\n",
        "end_time = time.time()\n",
        "\n",
        "print(end_time - start_time)"
      ],
      "metadata": {
        "colab": {
          "base_uri": "https://localhost:8080/"
        },
        "id": "y9QnGT80Uxmm",
        "outputId": "cf8ee6f5-d384-4142-e15c-db9e27a24063"
      },
      "execution_count": null,
      "outputs": [
        {
          "output_type": "stream",
          "name": "stdout",
          "text": [
            "IOC severity: 8.055\n",
            "risk: [1, 0, 0, 0, 0]\n",
            "Encrypted severity <tenseal.tensors.ckkstensor.CKKSTensor object at 0x77fcfc4a8a30>\n",
            "Encrypted risk level <tenseal.tensors.ckkstensor.CKKSTensor object at 0x77fcfc4a8a60>\n",
            "0.047742366790771484\n"
          ]
        }
      ]
    },
    {
      "cell_type": "markdown",
      "source": [
        "# **2. Using STIX: Serialise IOCs and structure them.**"
      ],
      "metadata": {
        "id": "cYaOJUjSS70h"
      }
    },
    {
      "cell_type": "markdown",
      "source": [
        "**2.1 Install stix2**"
      ],
      "metadata": {
        "id": "Acy5zHhqVXa6"
      }
    },
    {
      "cell_type": "code",
      "source": [
        "!pip install stix2"
      ],
      "metadata": {
        "colab": {
          "base_uri": "https://localhost:8080/"
        },
        "id": "9vgce6uhLF3V",
        "outputId": "8ac34303-7cae-474c-e39a-0cbe520dd839"
      },
      "execution_count": null,
      "outputs": [
        {
          "output_type": "stream",
          "name": "stdout",
          "text": [
            "Collecting stix2\n",
            "  Downloading stix2-3.0.1-py2.py3-none-any.whl (177 kB)\n",
            "\u001b[2K     \u001b[90m━━━━━━━━━━━━━━━━━━━━━━━━━━━━━━━━━━━━━━━━\u001b[0m \u001b[32m177.8/177.8 kB\u001b[0m \u001b[31m1.7 MB/s\u001b[0m eta \u001b[36m0:00:00\u001b[0m\n",
            "\u001b[?25hRequirement already satisfied: pytz in /usr/local/lib/python3.10/dist-packages (from stix2) (2023.3.post1)\n",
            "Requirement already satisfied: requests in /usr/local/lib/python3.10/dist-packages (from stix2) (2.31.0)\n",
            "Collecting simplejson (from stix2)\n",
            "  Downloading simplejson-3.19.2-cp310-cp310-manylinux_2_5_x86_64.manylinux1_x86_64.manylinux_2_17_x86_64.manylinux2014_x86_64.whl (137 kB)\n",
            "\u001b[2K     \u001b[90m━━━━━━━━━━━━━━━━━━━━━━━━━━━━━━━━━━━━━━━━\u001b[0m \u001b[32m137.9/137.9 kB\u001b[0m \u001b[31m9.2 MB/s\u001b[0m eta \u001b[36m0:00:00\u001b[0m\n",
            "\u001b[?25hCollecting stix2-patterns>=1.2.0 (from stix2)\n",
            "  Downloading stix2_patterns-2.0.0-py2.py3-none-any.whl (65 kB)\n",
            "\u001b[2K     \u001b[90m━━━━━━━━━━━━━━━━━━━━━━━━━━━━━━━━━━━━━━━━\u001b[0m \u001b[32m65.9/65.9 kB\u001b[0m \u001b[31m9.2 MB/s\u001b[0m eta \u001b[36m0:00:00\u001b[0m\n",
            "\u001b[?25hCollecting antlr4-python3-runtime~=4.9.0 (from stix2-patterns>=1.2.0->stix2)\n",
            "  Downloading antlr4-python3-runtime-4.9.3.tar.gz (117 kB)\n",
            "\u001b[2K     \u001b[90m━━━━━━━━━━━━━━━━━━━━━━━━━━━━━━━━━━━━━━━━\u001b[0m \u001b[32m117.0/117.0 kB\u001b[0m \u001b[31m10.9 MB/s\u001b[0m eta \u001b[36m0:00:00\u001b[0m\n",
            "\u001b[?25h  Preparing metadata (setup.py) ... \u001b[?25l\u001b[?25hdone\n",
            "Requirement already satisfied: six in /usr/local/lib/python3.10/dist-packages (from stix2-patterns>=1.2.0->stix2) (1.16.0)\n",
            "Requirement already satisfied: charset-normalizer<4,>=2 in /usr/local/lib/python3.10/dist-packages (from requests->stix2) (3.3.2)\n",
            "Requirement already satisfied: idna<4,>=2.5 in /usr/local/lib/python3.10/dist-packages (from requests->stix2) (3.6)\n",
            "Requirement already satisfied: urllib3<3,>=1.21.1 in /usr/local/lib/python3.10/dist-packages (from requests->stix2) (2.0.7)\n",
            "Requirement already satisfied: certifi>=2017.4.17 in /usr/local/lib/python3.10/dist-packages (from requests->stix2) (2023.11.17)\n",
            "Building wheels for collected packages: antlr4-python3-runtime\n",
            "  Building wheel for antlr4-python3-runtime (setup.py) ... \u001b[?25l\u001b[?25hdone\n",
            "  Created wheel for antlr4-python3-runtime: filename=antlr4_python3_runtime-4.9.3-py3-none-any.whl size=144554 sha256=945c4feaf3f661a62144c6157eef7ed9e171f3f81a7cafa07e72615946a65c17\n",
            "  Stored in directory: /root/.cache/pip/wheels/12/93/dd/1f6a127edc45659556564c5730f6d4e300888f4bca2d4c5a88\n",
            "Successfully built antlr4-python3-runtime\n",
            "Installing collected packages: antlr4-python3-runtime, stix2-patterns, simplejson, stix2\n",
            "Successfully installed antlr4-python3-runtime-4.9.3 simplejson-3.19.2 stix2-3.0.1 stix2-patterns-2.0.0\n"
          ]
        }
      ]
    },
    {
      "cell_type": "markdown",
      "source": [
        "**2.2 Structuring and serialising of IOC**"
      ],
      "metadata": {
        "id": "o7ri4BzPVdIm"
      }
    },
    {
      "cell_type": "code",
      "source": [
        "import stix2\n",
        "import json\n",
        "\n",
        "# Creating a simple STIX indicator with additional custom properties\n",
        "risk_level = '\"{}\"'.format(encrypted_input_risk_level)\n",
        "ioc_severity = '\"{}\"'.format(encrypted_input_IOC_sev)\n",
        "\n",
        "indicator = stix2.Indicator(\n",
        "    name=\"Malicious File Indicator\",\n",
        "    pattern=\"[file:hashes.md5 = 'd41d8cd98f00b204e9800998ecf8427e']\",\n",
        "    labels=[\"malicious-indicator\"],\n",
        "    pattern_type=\"stix\",\n",
        "    custom_properties={\n",
        "        \"risk_level\": risk_level,\n",
        "        \"ioc_severity\": ioc_severity\n",
        "    }\n",
        ")\n",
        "\n",
        "# Convert STIX Indicator to JSON format\n",
        "indicator_json = stix2.serialization.serialize(indicator, indent=2)\n",
        "\n",
        "# Save JSON to a file\n",
        "with open(\"/content/data.json\", \"w\") as json_file:\n",
        "    json_file.write(indicator_json)\n",
        "\n",
        "print(\"STIX Indicator saved to 'data.json'\")\n"
      ],
      "metadata": {
        "colab": {
          "base_uri": "https://localhost:8080/"
        },
        "id": "EUMiL-3LLItJ",
        "outputId": "df0248ec-cad3-4428-a23d-a8c3eaadf28f"
      },
      "execution_count": null,
      "outputs": [
        {
          "output_type": "stream",
          "name": "stdout",
          "text": [
            "STIX Indicator saved to 'data.json'\n"
          ]
        }
      ]
    },
    {
      "cell_type": "code",
      "source": [
        "ls"
      ],
      "metadata": {
        "colab": {
          "base_uri": "https://localhost:8080/"
        },
        "id": "cJxPUvnASXM_",
        "outputId": "f37f8b41-bf43-45a3-da27-ac2a4be0c82b"
      },
      "execution_count": null,
      "outputs": [
        {
          "output_type": "stream",
          "name": "stdout",
          "text": [
            "\u001b[0m\u001b[01;36mbin\u001b[0m@                        \u001b[01;34mdatalab\u001b[0m/  \u001b[01;36mlib\u001b[0m@     \u001b[01;34mmedia\u001b[0m/                    \u001b[01;34mproc\u001b[0m/        \u001b[01;36msbin\u001b[0m@  \u001b[01;34mtools\u001b[0m/\n",
            "\u001b[01;34mboot\u001b[0m/                       \u001b[01;34mdev\u001b[0m/      \u001b[01;36mlib32\u001b[0m@   \u001b[01;34mmnt\u001b[0m/                      \u001b[01;34mpython-apt\u001b[0m/  \u001b[01;34msrv\u001b[0m/   \u001b[01;34musr\u001b[0m/\n",
            "\u001b[01;34mcontent\u001b[0m/                    \u001b[01;34metc\u001b[0m/      \u001b[01;36mlib64\u001b[0m@   NGC-DL-CONTAINER-LICENSE  \u001b[01;34mroot\u001b[0m/        \u001b[01;34msys\u001b[0m/   \u001b[01;34mvar\u001b[0m/\n",
            "cuda-keyring_1.0-1_all.deb  \u001b[01;34mhome\u001b[0m/     \u001b[01;36mlibx32\u001b[0m@  \u001b[01;34mopt\u001b[0m/                      \u001b[01;34mrun\u001b[0m/         \u001b[30;42mtmp\u001b[0m/\n"
          ]
        }
      ]
    },
    {
      "cell_type": "markdown",
      "source": [
        "# **TAXII Server**"
      ],
      "metadata": {
        "id": "j9mkrqtZUPTC"
      }
    },
    {
      "cell_type": "markdown",
      "source": [
        "**Install Medallion**"
      ],
      "metadata": {
        "id": "kIsMdJT5pA_N"
      }
    },
    {
      "cell_type": "code",
      "execution_count": null,
      "metadata": {
        "colab": {
          "base_uri": "https://localhost:8080/"
        },
        "id": "5VOf1Ft3R4iD",
        "outputId": "52661096-432c-4372-cc15-a542da4f9232"
      },
      "outputs": [
        {
          "output_type": "stream",
          "name": "stdout",
          "text": [
            "Requirement already satisfied: medallion in /usr/local/lib/python3.10/dist-packages (3.0.0)\n",
            "Requirement already satisfied: flask>=0.12.1 in /usr/local/lib/python3.10/dist-packages (from medallion) (2.2.5)\n",
            "Requirement already satisfied: Flask-HTTPAuth in /usr/local/lib/python3.10/dist-packages (from medallion) (4.8.0)\n",
            "Requirement already satisfied: pytz in /usr/local/lib/python3.10/dist-packages (from medallion) (2023.3.post1)\n",
            "Requirement already satisfied: six in /usr/local/lib/python3.10/dist-packages (from medallion) (1.16.0)\n",
            "Requirement already satisfied: Werkzeug>=2.2.2 in /usr/local/lib/python3.10/dist-packages (from flask>=0.12.1->medallion) (3.0.1)\n",
            "Requirement already satisfied: Jinja2>=3.0 in /usr/local/lib/python3.10/dist-packages (from flask>=0.12.1->medallion) (3.1.2)\n",
            "Requirement already satisfied: itsdangerous>=2.0 in /usr/local/lib/python3.10/dist-packages (from flask>=0.12.1->medallion) (2.1.2)\n",
            "Requirement already satisfied: click>=8.0 in /usr/local/lib/python3.10/dist-packages (from flask>=0.12.1->medallion) (8.1.7)\n",
            "Requirement already satisfied: MarkupSafe>=2.0 in /usr/local/lib/python3.10/dist-packages (from Jinja2>=3.0->flask>=0.12.1->medallion) (2.1.3)\n"
          ]
        }
      ],
      "source": [
        "!pip install medallion"
      ]
    },
    {
      "cell_type": "code",
      "source": [
        "ls"
      ],
      "metadata": {
        "colab": {
          "base_uri": "https://localhost:8080/"
        },
        "id": "HX29tj-vtIWO",
        "outputId": "216f1138-207c-40e1-b1cc-8026cbf589a8"
      },
      "execution_count": null,
      "outputs": [
        {
          "output_type": "stream",
          "name": "stdout",
          "text": [
            "\u001b[0m\u001b[01;36mbin\u001b[0m@                        \u001b[01;34mdatalab\u001b[0m/  \u001b[01;36mlib\u001b[0m@     \u001b[01;34mmedia\u001b[0m/                    \u001b[01;34mproc\u001b[0m/        \u001b[01;36msbin\u001b[0m@  \u001b[01;34mtools\u001b[0m/\n",
            "\u001b[01;34mboot\u001b[0m/                       \u001b[01;34mdev\u001b[0m/      \u001b[01;36mlib32\u001b[0m@   \u001b[01;34mmnt\u001b[0m/                      \u001b[01;34mpython-apt\u001b[0m/  \u001b[01;34msrv\u001b[0m/   \u001b[01;34musr\u001b[0m/\n",
            "\u001b[01;34mcontent\u001b[0m/                    \u001b[01;34metc\u001b[0m/      \u001b[01;36mlib64\u001b[0m@   NGC-DL-CONTAINER-LICENSE  \u001b[01;34mroot\u001b[0m/        \u001b[01;34msys\u001b[0m/   \u001b[01;34mvar\u001b[0m/\n",
            "cuda-keyring_1.0-1_all.deb  \u001b[01;34mhome\u001b[0m/     \u001b[01;36mlibx32\u001b[0m@  \u001b[01;34mopt\u001b[0m/                      \u001b[01;34mrun\u001b[0m/         \u001b[30;42mtmp\u001b[0m/\n"
          ]
        }
      ]
    },
    {
      "cell_type": "markdown",
      "source": [
        "**Run medallion**"
      ],
      "metadata": {
        "id": "Jih9cZUWUUjS"
      }
    },
    {
      "cell_type": "code",
      "source": [
        "!python /usr/local/lib/python3.10/dist-packages/medallion/scripts/run.py /content/medallion-config.json"
      ],
      "metadata": {
        "colab": {
          "base_uri": "https://localhost:8080/"
        },
        "id": "H-XxKM_1t8t8",
        "outputId": "8c215ebc-548d-4e78-a3bd-1223411a1d3f"
      },
      "execution_count": null,
      "outputs": [
        {
          "output_type": "stream",
          "name": "stdout",
          "text": [
            " * Serving Flask app 'medallion'\n",
            " * Debug mode: off\n",
            "\u001b[31m\u001b[1mWARNING: This is a development server. Do not use it in a production deployment. Use a production WSGI server instead.\u001b[0m\n",
            " * Running on http://127.0.0.1:5000\n",
            "\u001b[33mPress CTRL+C to quit\u001b[0m\n",
            "^C\n"
          ]
        }
      ]
    },
    {
      "cell_type": "markdown",
      "source": [
        "# **TAXII client2**"
      ],
      "metadata": {
        "id": "TyejzCKpUkoJ"
      }
    },
    {
      "cell_type": "markdown",
      "source": [
        "**Install taxii2-client**"
      ],
      "metadata": {
        "id": "G_yeKc7wpttj"
      }
    },
    {
      "cell_type": "code",
      "source": [
        "!pip install taxii2-client"
      ],
      "metadata": {
        "colab": {
          "base_uri": "https://localhost:8080/"
        },
        "id": "y6uwf470nYxy",
        "outputId": "753c1802-3edb-4d76-b446-210de4dd4907"
      },
      "execution_count": null,
      "outputs": [
        {
          "output_type": "stream",
          "name": "stdout",
          "text": [
            "Requirement already satisfied: taxii2-client in /usr/local/lib/python3.10/dist-packages (2.3.0)\n",
            "Requirement already satisfied: requests in /usr/local/lib/python3.10/dist-packages (from taxii2-client) (2.31.0)\n",
            "Requirement already satisfied: six in /usr/local/lib/python3.10/dist-packages (from taxii2-client) (1.16.0)\n",
            "Requirement already satisfied: pytz in /usr/local/lib/python3.10/dist-packages (from taxii2-client) (2023.3.post1)\n",
            "Requirement already satisfied: charset-normalizer<4,>=2 in /usr/local/lib/python3.10/dist-packages (from requests->taxii2-client) (3.3.2)\n",
            "Requirement already satisfied: idna<4,>=2.5 in /usr/local/lib/python3.10/dist-packages (from requests->taxii2-client) (3.6)\n",
            "Requirement already satisfied: urllib3<3,>=1.21.1 in /usr/local/lib/python3.10/dist-packages (from requests->taxii2-client) (2.0.7)\n",
            "Requirement already satisfied: certifi>=2017.4.17 in /usr/local/lib/python3.10/dist-packages (from requests->taxii2-client) (2023.11.17)\n"
          ]
        }
      ]
    },
    {
      "cell_type": "code",
      "source": [
        "from taxii2client import Server\n",
        "\n",
        "# Connect to MITRE ATT&CK TAXII server\n",
        "taxii_server_url = 'https://localhost/'\n",
        "taxii_server = Server(taxii_server_url)\n",
        "\n",
        "# Discover services\n",
        "api_roots = taxii_server.api_roots\n",
        "for api_root in api_roots:\n",
        "    print(\"API Root:\", api_root.title)\n",
        "    print(\"Available Services:\", api_root.versions)"
      ],
      "metadata": {
        "colab": {
          "base_uri": "https://localhost:8080/",
          "height": 733
        },
        "id": "1A7Mnl1HolGR",
        "outputId": "3b3d6c81-a935-408a-95e1-d665a702cc0e"
      },
      "execution_count": null,
      "outputs": [
        {
          "output_type": "stream",
          "name": "stdout",
          "text": [
            "localhost found\n"
          ]
        },
        {
          "output_type": "error",
          "ename": "ConnectionError",
          "evalue": "HTTPSConnectionPool(host='localhost', port=443): Max retries exceeded with url: / (Caused by NewConnectionError('<urllib3.connection.HTTPSConnection object at 0x7eb648555a50>: Failed to establish a new connection: [Errno 111] Connection refused'))",
          "traceback": [
            "\u001b[0;31m---------------------------------------------------------------------------\u001b[0m",
            "\u001b[0;31mConnectionRefusedError\u001b[0m                    Traceback (most recent call last)",
            "\u001b[0;32m/usr/local/lib/python3.10/dist-packages/urllib3/connection.py\u001b[0m in \u001b[0;36m_new_conn\u001b[0;34m(self)\u001b[0m\n\u001b[1;32m    202\u001b[0m         \u001b[0;32mtry\u001b[0m\u001b[0;34m:\u001b[0m\u001b[0;34m\u001b[0m\u001b[0;34m\u001b[0m\u001b[0m\n\u001b[0;32m--> 203\u001b[0;31m             sock = connection.create_connection(\n\u001b[0m\u001b[1;32m    204\u001b[0m                 \u001b[0;34m(\u001b[0m\u001b[0mself\u001b[0m\u001b[0;34m.\u001b[0m\u001b[0m_dns_host\u001b[0m\u001b[0;34m,\u001b[0m \u001b[0mself\u001b[0m\u001b[0;34m.\u001b[0m\u001b[0mport\u001b[0m\u001b[0;34m)\u001b[0m\u001b[0;34m,\u001b[0m\u001b[0;34m\u001b[0m\u001b[0;34m\u001b[0m\u001b[0m\n",
            "\u001b[0;32m/usr/local/lib/python3.10/dist-packages/urllib3/util/connection.py\u001b[0m in \u001b[0;36mcreate_connection\u001b[0;34m(address, timeout, source_address, socket_options)\u001b[0m\n\u001b[1;32m     84\u001b[0m         \u001b[0;32mtry\u001b[0m\u001b[0;34m:\u001b[0m\u001b[0;34m\u001b[0m\u001b[0;34m\u001b[0m\u001b[0m\n\u001b[0;32m---> 85\u001b[0;31m             \u001b[0;32mraise\u001b[0m \u001b[0merr\u001b[0m\u001b[0;34m\u001b[0m\u001b[0;34m\u001b[0m\u001b[0m\n\u001b[0m\u001b[1;32m     86\u001b[0m         \u001b[0;32mfinally\u001b[0m\u001b[0;34m:\u001b[0m\u001b[0;34m\u001b[0m\u001b[0;34m\u001b[0m\u001b[0m\n",
            "\u001b[0;32m/usr/local/lib/python3.10/dist-packages/urllib3/util/connection.py\u001b[0m in \u001b[0;36mcreate_connection\u001b[0;34m(address, timeout, source_address, socket_options)\u001b[0m\n\u001b[1;32m     72\u001b[0m                 \u001b[0msock\u001b[0m\u001b[0;34m.\u001b[0m\u001b[0mbind\u001b[0m\u001b[0;34m(\u001b[0m\u001b[0msource_address\u001b[0m\u001b[0;34m)\u001b[0m\u001b[0;34m\u001b[0m\u001b[0;34m\u001b[0m\u001b[0m\n\u001b[0;32m---> 73\u001b[0;31m             \u001b[0msock\u001b[0m\u001b[0;34m.\u001b[0m\u001b[0mconnect\u001b[0m\u001b[0;34m(\u001b[0m\u001b[0msa\u001b[0m\u001b[0;34m)\u001b[0m\u001b[0;34m\u001b[0m\u001b[0;34m\u001b[0m\u001b[0m\n\u001b[0m\u001b[1;32m     74\u001b[0m             \u001b[0;31m# Break explicitly a reference cycle\u001b[0m\u001b[0;34m\u001b[0m\u001b[0;34m\u001b[0m\u001b[0m\n",
            "\u001b[0;31mConnectionRefusedError\u001b[0m: [Errno 111] Connection refused",
            "\nThe above exception was the direct cause of the following exception:\n",
            "\u001b[0;31mNewConnectionError\u001b[0m                        Traceback (most recent call last)",
            "\u001b[0;32m/usr/local/lib/python3.10/dist-packages/urllib3/connectionpool.py\u001b[0m in \u001b[0;36murlopen\u001b[0;34m(self, method, url, body, headers, retries, redirect, assert_same_host, timeout, pool_timeout, release_conn, chunked, body_pos, preload_content, decode_content, **response_kw)\u001b[0m\n\u001b[1;32m    790\u001b[0m             \u001b[0;31m# Make the request on the HTTPConnection object\u001b[0m\u001b[0;34m\u001b[0m\u001b[0;34m\u001b[0m\u001b[0m\n\u001b[0;32m--> 791\u001b[0;31m             response = self._make_request(\n\u001b[0m\u001b[1;32m    792\u001b[0m                 \u001b[0mconn\u001b[0m\u001b[0;34m,\u001b[0m\u001b[0;34m\u001b[0m\u001b[0;34m\u001b[0m\u001b[0m\n",
            "\u001b[0;32m/usr/local/lib/python3.10/dist-packages/urllib3/connectionpool.py\u001b[0m in \u001b[0;36m_make_request\u001b[0;34m(self, conn, method, url, body, headers, retries, timeout, chunked, response_conn, preload_content, decode_content, enforce_content_length)\u001b[0m\n\u001b[1;32m    491\u001b[0m                 \u001b[0mnew_e\u001b[0m \u001b[0;34m=\u001b[0m \u001b[0m_wrap_proxy_error\u001b[0m\u001b[0;34m(\u001b[0m\u001b[0mnew_e\u001b[0m\u001b[0;34m,\u001b[0m \u001b[0mconn\u001b[0m\u001b[0;34m.\u001b[0m\u001b[0mproxy\u001b[0m\u001b[0;34m.\u001b[0m\u001b[0mscheme\u001b[0m\u001b[0;34m)\u001b[0m\u001b[0;34m\u001b[0m\u001b[0;34m\u001b[0m\u001b[0m\n\u001b[0;32m--> 492\u001b[0;31m             \u001b[0;32mraise\u001b[0m \u001b[0mnew_e\u001b[0m\u001b[0;34m\u001b[0m\u001b[0;34m\u001b[0m\u001b[0m\n\u001b[0m\u001b[1;32m    493\u001b[0m \u001b[0;34m\u001b[0m\u001b[0m\n",
            "\u001b[0;32m/usr/local/lib/python3.10/dist-packages/urllib3/connectionpool.py\u001b[0m in \u001b[0;36m_make_request\u001b[0;34m(self, conn, method, url, body, headers, retries, timeout, chunked, response_conn, preload_content, decode_content, enforce_content_length)\u001b[0m\n\u001b[1;32m    467\u001b[0m             \u001b[0;32mtry\u001b[0m\u001b[0;34m:\u001b[0m\u001b[0;34m\u001b[0m\u001b[0;34m\u001b[0m\u001b[0m\n\u001b[0;32m--> 468\u001b[0;31m                 \u001b[0mself\u001b[0m\u001b[0;34m.\u001b[0m\u001b[0m_validate_conn\u001b[0m\u001b[0;34m(\u001b[0m\u001b[0mconn\u001b[0m\u001b[0;34m)\u001b[0m\u001b[0;34m\u001b[0m\u001b[0;34m\u001b[0m\u001b[0m\n\u001b[0m\u001b[1;32m    469\u001b[0m             \u001b[0;32mexcept\u001b[0m \u001b[0;34m(\u001b[0m\u001b[0mSocketTimeout\u001b[0m\u001b[0;34m,\u001b[0m \u001b[0mBaseSSLError\u001b[0m\u001b[0;34m)\u001b[0m \u001b[0;32mas\u001b[0m \u001b[0me\u001b[0m\u001b[0;34m:\u001b[0m\u001b[0;34m\u001b[0m\u001b[0;34m\u001b[0m\u001b[0m\n",
            "\u001b[0;32m/usr/local/lib/python3.10/dist-packages/urllib3/connectionpool.py\u001b[0m in \u001b[0;36m_validate_conn\u001b[0;34m(self, conn)\u001b[0m\n\u001b[1;32m   1096\u001b[0m         \u001b[0;32mif\u001b[0m \u001b[0mconn\u001b[0m\u001b[0;34m.\u001b[0m\u001b[0mis_closed\u001b[0m\u001b[0;34m:\u001b[0m\u001b[0;34m\u001b[0m\u001b[0;34m\u001b[0m\u001b[0m\n\u001b[0;32m-> 1097\u001b[0;31m             \u001b[0mconn\u001b[0m\u001b[0;34m.\u001b[0m\u001b[0mconnect\u001b[0m\u001b[0;34m(\u001b[0m\u001b[0;34m)\u001b[0m\u001b[0;34m\u001b[0m\u001b[0;34m\u001b[0m\u001b[0m\n\u001b[0m\u001b[1;32m   1098\u001b[0m \u001b[0;34m\u001b[0m\u001b[0m\n",
            "\u001b[0;32m/usr/local/lib/python3.10/dist-packages/urllib3/connection.py\u001b[0m in \u001b[0;36mconnect\u001b[0;34m(self)\u001b[0m\n\u001b[1;32m    610\u001b[0m         \u001b[0msock\u001b[0m\u001b[0;34m:\u001b[0m \u001b[0msocket\u001b[0m\u001b[0;34m.\u001b[0m\u001b[0msocket\u001b[0m \u001b[0;34m|\u001b[0m \u001b[0mssl\u001b[0m\u001b[0;34m.\u001b[0m\u001b[0mSSLSocket\u001b[0m\u001b[0;34m\u001b[0m\u001b[0;34m\u001b[0m\u001b[0m\n\u001b[0;32m--> 611\u001b[0;31m         \u001b[0mself\u001b[0m\u001b[0;34m.\u001b[0m\u001b[0msock\u001b[0m \u001b[0;34m=\u001b[0m \u001b[0msock\u001b[0m \u001b[0;34m=\u001b[0m \u001b[0mself\u001b[0m\u001b[0;34m.\u001b[0m\u001b[0m_new_conn\u001b[0m\u001b[0;34m(\u001b[0m\u001b[0;34m)\u001b[0m\u001b[0;34m\u001b[0m\u001b[0;34m\u001b[0m\u001b[0m\n\u001b[0m\u001b[1;32m    612\u001b[0m         \u001b[0mserver_hostname\u001b[0m\u001b[0;34m:\u001b[0m \u001b[0mstr\u001b[0m \u001b[0;34m=\u001b[0m \u001b[0mself\u001b[0m\u001b[0;34m.\u001b[0m\u001b[0mhost\u001b[0m\u001b[0;34m\u001b[0m\u001b[0;34m\u001b[0m\u001b[0m\n",
            "\u001b[0;32m/usr/local/lib/python3.10/dist-packages/urllib3/connection.py\u001b[0m in \u001b[0;36m_new_conn\u001b[0;34m(self)\u001b[0m\n\u001b[1;32m    217\u001b[0m         \u001b[0;32mexcept\u001b[0m \u001b[0mOSError\u001b[0m \u001b[0;32mas\u001b[0m \u001b[0me\u001b[0m\u001b[0;34m:\u001b[0m\u001b[0;34m\u001b[0m\u001b[0;34m\u001b[0m\u001b[0m\n\u001b[0;32m--> 218\u001b[0;31m             raise NewConnectionError(\n\u001b[0m\u001b[1;32m    219\u001b[0m                 \u001b[0mself\u001b[0m\u001b[0;34m,\u001b[0m \u001b[0;34mf\"Failed to establish a new connection: {e}\"\u001b[0m\u001b[0;34m\u001b[0m\u001b[0;34m\u001b[0m\u001b[0m\n",
            "\u001b[0;31mNewConnectionError\u001b[0m: <urllib3.connection.HTTPSConnection object at 0x7eb648555a50>: Failed to establish a new connection: [Errno 111] Connection refused",
            "\nThe above exception was the direct cause of the following exception:\n",
            "\u001b[0;31mMaxRetryError\u001b[0m                             Traceback (most recent call last)",
            "\u001b[0;32m/usr/local/lib/python3.10/dist-packages/requests/adapters.py\u001b[0m in \u001b[0;36msend\u001b[0;34m(self, request, stream, timeout, verify, cert, proxies)\u001b[0m\n\u001b[1;32m    485\u001b[0m         \u001b[0;32mtry\u001b[0m\u001b[0;34m:\u001b[0m\u001b[0;34m\u001b[0m\u001b[0;34m\u001b[0m\u001b[0m\n\u001b[0;32m--> 486\u001b[0;31m             resp = conn.urlopen(\n\u001b[0m\u001b[1;32m    487\u001b[0m                 \u001b[0mmethod\u001b[0m\u001b[0;34m=\u001b[0m\u001b[0mrequest\u001b[0m\u001b[0;34m.\u001b[0m\u001b[0mmethod\u001b[0m\u001b[0;34m,\u001b[0m\u001b[0;34m\u001b[0m\u001b[0;34m\u001b[0m\u001b[0m\n",
            "\u001b[0;32m/usr/local/lib/python3.10/dist-packages/urllib3/connectionpool.py\u001b[0m in \u001b[0;36murlopen\u001b[0;34m(self, method, url, body, headers, retries, redirect, assert_same_host, timeout, pool_timeout, release_conn, chunked, body_pos, preload_content, decode_content, **response_kw)\u001b[0m\n\u001b[1;32m    844\u001b[0m \u001b[0;34m\u001b[0m\u001b[0m\n\u001b[0;32m--> 845\u001b[0;31m             retries = retries.increment(\n\u001b[0m\u001b[1;32m    846\u001b[0m                 \u001b[0mmethod\u001b[0m\u001b[0;34m,\u001b[0m \u001b[0murl\u001b[0m\u001b[0;34m,\u001b[0m \u001b[0merror\u001b[0m\u001b[0;34m=\u001b[0m\u001b[0mnew_e\u001b[0m\u001b[0;34m,\u001b[0m \u001b[0m_pool\u001b[0m\u001b[0;34m=\u001b[0m\u001b[0mself\u001b[0m\u001b[0;34m,\u001b[0m \u001b[0m_stacktrace\u001b[0m\u001b[0;34m=\u001b[0m\u001b[0msys\u001b[0m\u001b[0;34m.\u001b[0m\u001b[0mexc_info\u001b[0m\u001b[0;34m(\u001b[0m\u001b[0;34m)\u001b[0m\u001b[0;34m[\u001b[0m\u001b[0;36m2\u001b[0m\u001b[0;34m]\u001b[0m\u001b[0;34m\u001b[0m\u001b[0;34m\u001b[0m\u001b[0m\n",
            "\u001b[0;32m/usr/local/lib/python3.10/dist-packages/urllib3/util/retry.py\u001b[0m in \u001b[0;36mincrement\u001b[0;34m(self, method, url, response, error, _pool, _stacktrace)\u001b[0m\n\u001b[1;32m    514\u001b[0m             \u001b[0mreason\u001b[0m \u001b[0;34m=\u001b[0m \u001b[0merror\u001b[0m \u001b[0;32mor\u001b[0m \u001b[0mResponseError\u001b[0m\u001b[0;34m(\u001b[0m\u001b[0mcause\u001b[0m\u001b[0;34m)\u001b[0m\u001b[0;34m\u001b[0m\u001b[0;34m\u001b[0m\u001b[0m\n\u001b[0;32m--> 515\u001b[0;31m             \u001b[0;32mraise\u001b[0m \u001b[0mMaxRetryError\u001b[0m\u001b[0;34m(\u001b[0m\u001b[0m_pool\u001b[0m\u001b[0;34m,\u001b[0m \u001b[0murl\u001b[0m\u001b[0;34m,\u001b[0m \u001b[0mreason\u001b[0m\u001b[0;34m)\u001b[0m \u001b[0;32mfrom\u001b[0m \u001b[0mreason\u001b[0m  \u001b[0;31m# type: ignore[arg-type]\u001b[0m\u001b[0;34m\u001b[0m\u001b[0;34m\u001b[0m\u001b[0m\n\u001b[0m\u001b[1;32m    516\u001b[0m \u001b[0;34m\u001b[0m\u001b[0m\n",
            "\u001b[0;31mMaxRetryError\u001b[0m: HTTPSConnectionPool(host='localhost', port=443): Max retries exceeded with url: / (Caused by NewConnectionError('<urllib3.connection.HTTPSConnection object at 0x7eb648555a50>: Failed to establish a new connection: [Errno 111] Connection refused'))",
            "\nDuring handling of the above exception, another exception occurred:\n",
            "\u001b[0;31mConnectionError\u001b[0m                           Traceback (most recent call last)",
            "\u001b[0;32m<ipython-input-143-be7fa6a4c6d4>\u001b[0m in \u001b[0;36m<cell line: 9>\u001b[0;34m()\u001b[0m\n\u001b[1;32m      7\u001b[0m \u001b[0;34m\u001b[0m\u001b[0m\n\u001b[1;32m      8\u001b[0m \u001b[0;31m# Discover services\u001b[0m\u001b[0;34m\u001b[0m\u001b[0;34m\u001b[0m\u001b[0m\n\u001b[0;32m----> 9\u001b[0;31m \u001b[0mapi_roots\u001b[0m \u001b[0;34m=\u001b[0m \u001b[0mtaxii_server\u001b[0m\u001b[0;34m.\u001b[0m\u001b[0mapi_roots\u001b[0m\u001b[0;34m\u001b[0m\u001b[0;34m\u001b[0m\u001b[0m\n\u001b[0m\u001b[1;32m     10\u001b[0m \u001b[0;32mfor\u001b[0m \u001b[0mapi_root\u001b[0m \u001b[0;32min\u001b[0m \u001b[0mapi_roots\u001b[0m\u001b[0;34m:\u001b[0m\u001b[0;34m\u001b[0m\u001b[0;34m\u001b[0m\u001b[0m\n\u001b[1;32m     11\u001b[0m     \u001b[0mprint\u001b[0m\u001b[0;34m(\u001b[0m\u001b[0;34m\"API Root:\"\u001b[0m\u001b[0;34m,\u001b[0m \u001b[0mapi_root\u001b[0m\u001b[0;34m.\u001b[0m\u001b[0mtitle\u001b[0m\u001b[0;34m)\u001b[0m\u001b[0;34m\u001b[0m\u001b[0;34m\u001b[0m\u001b[0m\n",
            "\u001b[0;32m/usr/local/lib/python3.10/dist-packages/taxii2client/v21/__init__.py\u001b[0m in \u001b[0;36mapi_roots\u001b[0;34m(self)\u001b[0m\n\u001b[1;32m    694\u001b[0m     \u001b[0;34m@\u001b[0m\u001b[0mproperty\u001b[0m\u001b[0;34m\u001b[0m\u001b[0;34m\u001b[0m\u001b[0m\n\u001b[1;32m    695\u001b[0m     \u001b[0;32mdef\u001b[0m \u001b[0mapi_roots\u001b[0m\u001b[0;34m(\u001b[0m\u001b[0mself\u001b[0m\u001b[0;34m)\u001b[0m\u001b[0;34m:\u001b[0m\u001b[0;34m\u001b[0m\u001b[0;34m\u001b[0m\u001b[0m\n\u001b[0;32m--> 696\u001b[0;31m         \u001b[0mself\u001b[0m\u001b[0;34m.\u001b[0m\u001b[0m_ensure_loaded\u001b[0m\u001b[0;34m(\u001b[0m\u001b[0;34m)\u001b[0m\u001b[0;34m\u001b[0m\u001b[0;34m\u001b[0m\u001b[0m\n\u001b[0m\u001b[1;32m    697\u001b[0m         \u001b[0;32mreturn\u001b[0m \u001b[0mself\u001b[0m\u001b[0;34m.\u001b[0m\u001b[0m_api_roots\u001b[0m\u001b[0;34m\u001b[0m\u001b[0;34m\u001b[0m\u001b[0m\n\u001b[1;32m    698\u001b[0m \u001b[0;34m\u001b[0m\u001b[0m\n",
            "\u001b[0;32m/usr/local/lib/python3.10/dist-packages/taxii2client/v21/__init__.py\u001b[0m in \u001b[0;36m_ensure_loaded\u001b[0;34m(self)\u001b[0m\n\u001b[1;32m    710\u001b[0m     \u001b[0;32mdef\u001b[0m \u001b[0m_ensure_loaded\u001b[0m\u001b[0;34m(\u001b[0m\u001b[0mself\u001b[0m\u001b[0;34m)\u001b[0m\u001b[0;34m:\u001b[0m\u001b[0;34m\u001b[0m\u001b[0;34m\u001b[0m\u001b[0m\n\u001b[1;32m    711\u001b[0m         \u001b[0;32mif\u001b[0m \u001b[0;32mnot\u001b[0m \u001b[0mself\u001b[0m\u001b[0;34m.\u001b[0m\u001b[0m_loaded\u001b[0m\u001b[0;34m:\u001b[0m\u001b[0;34m\u001b[0m\u001b[0;34m\u001b[0m\u001b[0m\n\u001b[0;32m--> 712\u001b[0;31m             \u001b[0mself\u001b[0m\u001b[0;34m.\u001b[0m\u001b[0mrefresh\u001b[0m\u001b[0;34m(\u001b[0m\u001b[0;34m)\u001b[0m\u001b[0;34m\u001b[0m\u001b[0;34m\u001b[0m\u001b[0m\n\u001b[0m\u001b[1;32m    713\u001b[0m \u001b[0;34m\u001b[0m\u001b[0m\n\u001b[1;32m    714\u001b[0m     \u001b[0;32mdef\u001b[0m \u001b[0m_validate_server\u001b[0m\u001b[0;34m(\u001b[0m\u001b[0mself\u001b[0m\u001b[0;34m)\u001b[0m\u001b[0;34m:\u001b[0m\u001b[0;34m\u001b[0m\u001b[0;34m\u001b[0m\u001b[0m\n",
            "\u001b[0;32m/usr/local/lib/python3.10/dist-packages/taxii2client/v21/__init__.py\u001b[0m in \u001b[0;36mrefresh\u001b[0;34m(self)\u001b[0m\n\u001b[1;32m    748\u001b[0m     \u001b[0;32mdef\u001b[0m \u001b[0mrefresh\u001b[0m\u001b[0;34m(\u001b[0m\u001b[0mself\u001b[0m\u001b[0;34m)\u001b[0m\u001b[0;34m:\u001b[0m\u001b[0;34m\u001b[0m\u001b[0;34m\u001b[0m\u001b[0m\n\u001b[1;32m    749\u001b[0m         \u001b[0;34m\"\"\"Update the Server information and list of API Roots\"\"\"\u001b[0m\u001b[0;34m\u001b[0m\u001b[0;34m\u001b[0m\u001b[0m\n\u001b[0;32m--> 750\u001b[0;31m         \u001b[0mresponse\u001b[0m \u001b[0;34m=\u001b[0m \u001b[0mself\u001b[0m\u001b[0;34m.\u001b[0m\u001b[0m__raw\u001b[0m \u001b[0;34m=\u001b[0m \u001b[0mself\u001b[0m\u001b[0;34m.\u001b[0m\u001b[0m_conn\u001b[0m\u001b[0;34m.\u001b[0m\u001b[0mget\u001b[0m\u001b[0;34m(\u001b[0m\u001b[0mself\u001b[0m\u001b[0;34m.\u001b[0m\u001b[0murl\u001b[0m\u001b[0;34m)\u001b[0m\u001b[0;34m\u001b[0m\u001b[0;34m\u001b[0m\u001b[0m\n\u001b[0m\u001b[1;32m    751\u001b[0m         \u001b[0mself\u001b[0m\u001b[0;34m.\u001b[0m\u001b[0m_populate_fields\u001b[0m\u001b[0;34m(\u001b[0m\u001b[0;34m**\u001b[0m\u001b[0mresponse\u001b[0m\u001b[0;34m)\u001b[0m\u001b[0;34m\u001b[0m\u001b[0;34m\u001b[0m\u001b[0m\n\u001b[1;32m    752\u001b[0m         \u001b[0mself\u001b[0m\u001b[0;34m.\u001b[0m\u001b[0m_loaded\u001b[0m \u001b[0;34m=\u001b[0m \u001b[0;32mTrue\u001b[0m\u001b[0;34m\u001b[0m\u001b[0;34m\u001b[0m\u001b[0m\n",
            "\u001b[0;32m/usr/local/lib/python3.10/dist-packages/taxii2client/common.py\u001b[0m in \u001b[0;36mget\u001b[0;34m(self, url, headers, params)\u001b[0m\n\u001b[1;32m    295\u001b[0m         \u001b[0maccept\u001b[0m \u001b[0;34m=\u001b[0m \u001b[0mmerged_headers\u001b[0m\u001b[0;34m[\u001b[0m\u001b[0;34m\"Accept\"\u001b[0m\u001b[0;34m]\u001b[0m\u001b[0;34m\u001b[0m\u001b[0;34m\u001b[0m\u001b[0m\n\u001b[1;32m    296\u001b[0m \u001b[0;34m\u001b[0m\u001b[0m\n\u001b[0;32m--> 297\u001b[0;31m         \u001b[0mresp\u001b[0m \u001b[0;34m=\u001b[0m \u001b[0mself\u001b[0m\u001b[0;34m.\u001b[0m\u001b[0msession\u001b[0m\u001b[0;34m.\u001b[0m\u001b[0mget\u001b[0m\u001b[0;34m(\u001b[0m\u001b[0murl\u001b[0m\u001b[0;34m,\u001b[0m \u001b[0mheaders\u001b[0m\u001b[0;34m=\u001b[0m\u001b[0mmerged_headers\u001b[0m\u001b[0;34m,\u001b[0m \u001b[0mparams\u001b[0m\u001b[0;34m=\u001b[0m\u001b[0mparams\u001b[0m\u001b[0;34m)\u001b[0m\u001b[0;34m\u001b[0m\u001b[0;34m\u001b[0m\u001b[0m\n\u001b[0m\u001b[1;32m    298\u001b[0m \u001b[0;34m\u001b[0m\u001b[0m\n\u001b[1;32m    299\u001b[0m         \u001b[0;32mtry\u001b[0m\u001b[0;34m:\u001b[0m\u001b[0;34m\u001b[0m\u001b[0;34m\u001b[0m\u001b[0m\n",
            "\u001b[0;32m/usr/local/lib/python3.10/dist-packages/requests/sessions.py\u001b[0m in \u001b[0;36mget\u001b[0;34m(self, url, **kwargs)\u001b[0m\n\u001b[1;32m    600\u001b[0m \u001b[0;34m\u001b[0m\u001b[0m\n\u001b[1;32m    601\u001b[0m         \u001b[0mkwargs\u001b[0m\u001b[0;34m.\u001b[0m\u001b[0msetdefault\u001b[0m\u001b[0;34m(\u001b[0m\u001b[0;34m\"allow_redirects\"\u001b[0m\u001b[0;34m,\u001b[0m \u001b[0;32mTrue\u001b[0m\u001b[0;34m)\u001b[0m\u001b[0;34m\u001b[0m\u001b[0;34m\u001b[0m\u001b[0m\n\u001b[0;32m--> 602\u001b[0;31m         \u001b[0;32mreturn\u001b[0m \u001b[0mself\u001b[0m\u001b[0;34m.\u001b[0m\u001b[0mrequest\u001b[0m\u001b[0;34m(\u001b[0m\u001b[0;34m\"GET\"\u001b[0m\u001b[0;34m,\u001b[0m \u001b[0murl\u001b[0m\u001b[0;34m,\u001b[0m \u001b[0;34m**\u001b[0m\u001b[0mkwargs\u001b[0m\u001b[0;34m)\u001b[0m\u001b[0;34m\u001b[0m\u001b[0;34m\u001b[0m\u001b[0m\n\u001b[0m\u001b[1;32m    603\u001b[0m \u001b[0;34m\u001b[0m\u001b[0m\n\u001b[1;32m    604\u001b[0m     \u001b[0;32mdef\u001b[0m \u001b[0moptions\u001b[0m\u001b[0;34m(\u001b[0m\u001b[0mself\u001b[0m\u001b[0;34m,\u001b[0m \u001b[0murl\u001b[0m\u001b[0;34m,\u001b[0m \u001b[0;34m**\u001b[0m\u001b[0mkwargs\u001b[0m\u001b[0;34m)\u001b[0m\u001b[0;34m:\u001b[0m\u001b[0;34m\u001b[0m\u001b[0;34m\u001b[0m\u001b[0m\n",
            "\u001b[0;32m/usr/local/lib/python3.10/dist-packages/requests/sessions.py\u001b[0m in \u001b[0;36mrequest\u001b[0;34m(self, method, url, params, data, headers, cookies, files, auth, timeout, allow_redirects, proxies, hooks, stream, verify, cert, json)\u001b[0m\n\u001b[1;32m    587\u001b[0m         }\n\u001b[1;32m    588\u001b[0m         \u001b[0msend_kwargs\u001b[0m\u001b[0;34m.\u001b[0m\u001b[0mupdate\u001b[0m\u001b[0;34m(\u001b[0m\u001b[0msettings\u001b[0m\u001b[0;34m)\u001b[0m\u001b[0;34m\u001b[0m\u001b[0;34m\u001b[0m\u001b[0m\n\u001b[0;32m--> 589\u001b[0;31m         \u001b[0mresp\u001b[0m \u001b[0;34m=\u001b[0m \u001b[0mself\u001b[0m\u001b[0;34m.\u001b[0m\u001b[0msend\u001b[0m\u001b[0;34m(\u001b[0m\u001b[0mprep\u001b[0m\u001b[0;34m,\u001b[0m \u001b[0;34m**\u001b[0m\u001b[0msend_kwargs\u001b[0m\u001b[0;34m)\u001b[0m\u001b[0;34m\u001b[0m\u001b[0;34m\u001b[0m\u001b[0m\n\u001b[0m\u001b[1;32m    590\u001b[0m \u001b[0;34m\u001b[0m\u001b[0m\n\u001b[1;32m    591\u001b[0m         \u001b[0;32mreturn\u001b[0m \u001b[0mresp\u001b[0m\u001b[0;34m\u001b[0m\u001b[0;34m\u001b[0m\u001b[0m\n",
            "\u001b[0;32m/usr/local/lib/python3.10/dist-packages/requests/sessions.py\u001b[0m in \u001b[0;36msend\u001b[0;34m(self, request, **kwargs)\u001b[0m\n\u001b[1;32m    701\u001b[0m \u001b[0;34m\u001b[0m\u001b[0m\n\u001b[1;32m    702\u001b[0m         \u001b[0;31m# Send the request\u001b[0m\u001b[0;34m\u001b[0m\u001b[0;34m\u001b[0m\u001b[0m\n\u001b[0;32m--> 703\u001b[0;31m         \u001b[0mr\u001b[0m \u001b[0;34m=\u001b[0m \u001b[0madapter\u001b[0m\u001b[0;34m.\u001b[0m\u001b[0msend\u001b[0m\u001b[0;34m(\u001b[0m\u001b[0mrequest\u001b[0m\u001b[0;34m,\u001b[0m \u001b[0;34m**\u001b[0m\u001b[0mkwargs\u001b[0m\u001b[0;34m)\u001b[0m\u001b[0;34m\u001b[0m\u001b[0;34m\u001b[0m\u001b[0m\n\u001b[0m\u001b[1;32m    704\u001b[0m \u001b[0;34m\u001b[0m\u001b[0m\n\u001b[1;32m    705\u001b[0m         \u001b[0;31m# Total elapsed time of the request (approximately)\u001b[0m\u001b[0;34m\u001b[0m\u001b[0;34m\u001b[0m\u001b[0m\n",
            "\u001b[0;32m/usr/local/lib/python3.10/dist-packages/requests/adapters.py\u001b[0m in \u001b[0;36msend\u001b[0;34m(self, request, stream, timeout, verify, cert, proxies)\u001b[0m\n\u001b[1;32m    517\u001b[0m                 \u001b[0;32mraise\u001b[0m \u001b[0mSSLError\u001b[0m\u001b[0;34m(\u001b[0m\u001b[0me\u001b[0m\u001b[0;34m,\u001b[0m \u001b[0mrequest\u001b[0m\u001b[0;34m=\u001b[0m\u001b[0mrequest\u001b[0m\u001b[0;34m)\u001b[0m\u001b[0;34m\u001b[0m\u001b[0;34m\u001b[0m\u001b[0m\n\u001b[1;32m    518\u001b[0m \u001b[0;34m\u001b[0m\u001b[0m\n\u001b[0;32m--> 519\u001b[0;31m             \u001b[0;32mraise\u001b[0m \u001b[0mConnectionError\u001b[0m\u001b[0;34m(\u001b[0m\u001b[0me\u001b[0m\u001b[0;34m,\u001b[0m \u001b[0mrequest\u001b[0m\u001b[0;34m=\u001b[0m\u001b[0mrequest\u001b[0m\u001b[0;34m)\u001b[0m\u001b[0;34m\u001b[0m\u001b[0;34m\u001b[0m\u001b[0m\n\u001b[0m\u001b[1;32m    520\u001b[0m \u001b[0;34m\u001b[0m\u001b[0m\n\u001b[1;32m    521\u001b[0m         \u001b[0;32mexcept\u001b[0m \u001b[0mClosedPoolError\u001b[0m \u001b[0;32mas\u001b[0m \u001b[0me\u001b[0m\u001b[0;34m:\u001b[0m\u001b[0;34m\u001b[0m\u001b[0;34m\u001b[0m\u001b[0m\n",
            "\u001b[0;31mConnectionError\u001b[0m: HTTPSConnectionPool(host='localhost', port=443): Max retries exceeded with url: / (Caused by NewConnectionError('<urllib3.connection.HTTPSConnection object at 0x7eb648555a50>: Failed to establish a new connection: [Errno 111] Connection refused'))"
          ]
        }
      ]
    },
    {
      "cell_type": "code",
      "source": [
        "import json\n",
        "from taxii2client import Server, Collection\n",
        "\n",
        "def read_cti_from_file(file_path):\n",
        "    with open(file_path, 'r') as file:\n",
        "        cti_content = json.load(file)\n",
        "    return cti_content\n",
        "\n",
        "def publish_cti_from_file(taxii_server_url, collection_id, username, password, file_path):\n",
        "    # Connect to the TAXII server\n",
        "    server = Server(taxii_server_url, user=username, password=password)\n",
        "\n",
        "    # Choose the collection to publish to\n",
        "    collection = server.get_collection(collection_id)\n",
        "\n",
        "    # Read CTI content from the JSON file\n",
        "    cti_content = read_cti_from_file(file_path)\n",
        "\n",
        "    # Publish the CTI content to the collection\n",
        "    status = collection.add_objects(cti_content)\n",
        "\n",
        "    print(\"CTI published successfully. Status:\", status)\n",
        "\n",
        "if __name__ == \"__main__\":\n",
        "    # Replace with your TAXII server details\n",
        "    taxii_server_url = \"localhost\"\n",
        "\n",
        "    # Replace with your collection ID\n",
        "    collection_id = \"your_collection_id\"\n",
        "\n",
        "    # Replace with your TAXII server credentials\n",
        "    username = \"guest\"\n",
        "    password = \"guest\"\n",
        "\n",
        "    # Specify the path to your JSON file\n",
        "    file_path = \"data.json\"\n",
        "\n",
        "    publish_cti_from_file(taxii_server_url, collection_id, username, password, file_path)\n"
      ],
      "metadata": {
        "colab": {
          "base_uri": "https://localhost:8080/",
          "height": 390
        },
        "id": "-73vS2gOGhFk",
        "outputId": "52c7069e-668e-497a-8de9-616c48c08650"
      },
      "execution_count": 6,
      "outputs": [
        {
          "output_type": "error",
          "ename": "ModuleNotFoundError",
          "evalue": "No module named 'taxii2client'",
          "traceback": [
            "\u001b[0;31m---------------------------------------------------------------------------\u001b[0m",
            "\u001b[0;31mModuleNotFoundError\u001b[0m                       Traceback (most recent call last)",
            "\u001b[0;32m<ipython-input-6-432c557f8e3a>\u001b[0m in \u001b[0;36m<cell line: 2>\u001b[0;34m()\u001b[0m\n\u001b[1;32m      1\u001b[0m \u001b[0;32mimport\u001b[0m \u001b[0mjson\u001b[0m\u001b[0;34m\u001b[0m\u001b[0;34m\u001b[0m\u001b[0m\n\u001b[0;32m----> 2\u001b[0;31m \u001b[0;32mfrom\u001b[0m \u001b[0mtaxii2client\u001b[0m \u001b[0;32mimport\u001b[0m \u001b[0mServer\u001b[0m\u001b[0;34m,\u001b[0m \u001b[0mCollection\u001b[0m\u001b[0;34m\u001b[0m\u001b[0;34m\u001b[0m\u001b[0m\n\u001b[0m\u001b[1;32m      3\u001b[0m \u001b[0;34m\u001b[0m\u001b[0m\n\u001b[1;32m      4\u001b[0m \u001b[0;32mdef\u001b[0m \u001b[0mread_cti_from_file\u001b[0m\u001b[0;34m(\u001b[0m\u001b[0mfile_path\u001b[0m\u001b[0;34m)\u001b[0m\u001b[0;34m:\u001b[0m\u001b[0;34m\u001b[0m\u001b[0;34m\u001b[0m\u001b[0m\n\u001b[1;32m      5\u001b[0m     \u001b[0;32mwith\u001b[0m \u001b[0mopen\u001b[0m\u001b[0;34m(\u001b[0m\u001b[0mfile_path\u001b[0m\u001b[0;34m,\u001b[0m \u001b[0;34m'r'\u001b[0m\u001b[0;34m)\u001b[0m \u001b[0;32mas\u001b[0m \u001b[0mfile\u001b[0m\u001b[0;34m:\u001b[0m\u001b[0;34m\u001b[0m\u001b[0;34m\u001b[0m\u001b[0m\n",
            "\u001b[0;31mModuleNotFoundError\u001b[0m: No module named 'taxii2client'",
            "",
            "\u001b[0;31m---------------------------------------------------------------------------\u001b[0;32m\nNOTE: If your import is failing due to a missing package, you can\nmanually install dependencies using either !pip or !apt.\n\nTo view examples of installing some common dependencies, click the\n\"Open Examples\" button below.\n\u001b[0;31m---------------------------------------------------------------------------\u001b[0m\n"
          ],
          "errorDetails": {
            "actions": [
              {
                "action": "open_url",
                "actionText": "Open Examples",
                "url": "/notebooks/snippets/importing_libraries.ipynb"
              }
            ]
          }
        }
      ]
    },
    {
      "cell_type": "code",
      "source": [
        "from taxii2client import Server, Collection\n",
        "\n",
        "def consume_cti(taxii_server_url, collection_id, username, password):\n",
        "    # Connect to the TAXII server\n",
        "    server = Server(taxii_server_url, user=username, password=password)\n",
        "\n",
        "    # Choose the collection to consume from\n",
        "    collection = server.get_collection(collection_id)\n",
        "\n",
        "    # Retrieve STIX objects from the collection\n",
        "    stix_bundle = collection.get_objects()\n",
        "\n",
        "    # Print the STIX objects\n",
        "    print(\"STIX Objects:\")\n",
        "    for stix_object in stix_bundle['objects']:\n",
        "        print(json.dumps(stix_object, indent=2))\n",
        "        print(\"\\n\" + \"=\" * 50 + \"\\n\")  # Separator between objects\n",
        "\n",
        "if __name__ == \"__main__\":\n",
        "    # Replace with your TAXII server details\n",
        "    taxii_server_url = \"localhost\"\n",
        "\n",
        "    # Replace with your collection ID\n",
        "    collection_id = \"your_collection_id\"\n",
        "\n",
        "    # Replace with your TAXII server credentials\n",
        "    username = \"guest\"\n",
        "    password = \"guest\"\n",
        "\n",
        "    consume_cti(taxii_server_url, collection_id, username, password)\n"
      ],
      "metadata": {
        "id": "HumADgnGHN6l"
      },
      "execution_count": null,
      "outputs": []
    },
    {
      "cell_type": "markdown",
      "source": [
        "# **5. Check IOC severity**"
      ],
      "metadata": {
        "id": "5u3b0uiVm2bo"
      }
    },
    {
      "cell_type": "code",
      "source": [
        "import tenseal as ts\n",
        "\n",
        "# Create a CKKS context\n",
        "context = ts.context(ts.SCHEME_TYPE.CKKS, 8192, coeff_mod_bit_sizes=[60, 40, 40, 60])\n",
        "context.global_scale = pow(2, 40)\n",
        "context.generate_galois_keys()\n",
        "\n",
        "# Encrypt the numbers\n",
        "\n",
        "number2 = 3.0\n",
        "number3 = 6.0\n",
        "encrypted_number1 = encrypted_input_IOC_sev\n",
        "encrypted_number2 = ts.ckks_tensor(context, [number2])\n",
        "encrypted_number3 = ts.ckks_tensor(context, [number3])\n",
        "\n",
        "print(encrypted_input_IOC_sev.decrypt())\n",
        "# Subtract the numbers (effectively performing a comparison)\n",
        "result_tensor12 = encrypted_number2 - encrypted_number1\n",
        "result_tensor13 = encrypted_number3 - encrypted_number1\n",
        "print(result_tensor12)\n",
        "\n",
        "# Decrypt the difference\n",
        "decrypted_result12 = result_tensor12.decrypt().tolist()[0]  # Correct extraction\n",
        "decrypted_result13 = result_tensor13.decrypt().tolist()[0]  # Correct extraction\n",
        "print(decrypted_result12)\n",
        "\n",
        "# Interpret the decrypted result to determine which number is greater\n",
        "\n",
        "if decrypted_result13 < 0:\n",
        "  print(\"Critical IOC\")\n",
        "elif decrypted_result12 < 0 and decrypted_result13 > 0:\n",
        "  print(\"High priority IOC\")\n",
        "else: print(\"Low priority IOC\")\n"
      ],
      "metadata": {
        "colab": {
          "base_uri": "https://localhost:8080/"
        },
        "id": "FRCDOmHnpJCP",
        "outputId": "704a2a9b-fe0e-4db1-add2-176d30b4a118"
      },
      "execution_count": null,
      "outputs": [
        {
          "output_type": "stream",
          "name": "stdout",
          "text": [
            "<tenseal.tensors.plaintensor.PlainTensor object at 0x7eb6484db9a0>\n",
            "<tenseal.tensors.ckkstensor.CKKSTensor object at 0x7eb6484da380>\n",
            "3.1800891609704903e+31\n",
            "Low priority IOC\n"
          ]
        }
      ]
    },
    {
      "cell_type": "markdown",
      "source": [
        " **Install pikka**"
      ],
      "metadata": {
        "id": "OHGNgBCimVee"
      }
    },
    {
      "cell_type": "code",
      "source": [
        "!python -m pip install pika --upgrade"
      ],
      "metadata": {
        "colab": {
          "base_uri": "https://localhost:8080/"
        },
        "id": "pHxr7QgncDVp",
        "outputId": "7fc3b222-8f14-44fc-c122-0da85475208d"
      },
      "execution_count": null,
      "outputs": [
        {
          "output_type": "stream",
          "name": "stdout",
          "text": [
            "Requirement already satisfied: pika in /usr/local/lib/python3.10/dist-packages (1.3.2)\n"
          ]
        }
      ]
    },
    {
      "cell_type": "markdown",
      "source": [
        "**Show pika information**"
      ],
      "metadata": {
        "id": "Z54vwYFZmgpO"
      }
    },
    {
      "cell_type": "code",
      "source": [
        "pip show pika"
      ],
      "metadata": {
        "colab": {
          "base_uri": "https://localhost:8080/"
        },
        "id": "q5aBMDaHdiLe",
        "outputId": "aa957da0-e9d3-4b98-f283-f4715a9832d3"
      },
      "execution_count": null,
      "outputs": [
        {
          "output_type": "stream",
          "name": "stdout",
          "text": [
            "Name: pika\n",
            "Version: 1.3.2\n",
            "Summary: Pika Python AMQP Client Library\n",
            "Home-page: \n",
            "Author: \n",
            "Author-email: \n",
            "License: BSD-3-Clause\n",
            "Location: /usr/local/lib/python3.10/dist-packages\n",
            "Requires: \n",
            "Required-by: \n"
          ]
        }
      ]
    },
    {
      "cell_type": "markdown",
      "source": [
        "**Install rabbitmq server**"
      ],
      "metadata": {
        "id": "MVKEQBVxmqRB"
      }
    },
    {
      "cell_type": "code",
      "source": [
        "!sudo apt-get install rabbitmq-server"
      ],
      "metadata": {
        "colab": {
          "base_uri": "https://localhost:8080/"
        },
        "id": "ujm6Dbtehvdi",
        "outputId": "e2c8f8a5-34f0-4599-c166-93ea8d689dc3"
      },
      "execution_count": null,
      "outputs": [
        {
          "output_type": "stream",
          "name": "stdout",
          "text": [
            "Reading package lists... Done\n",
            "Building dependency tree... Done\n",
            "Reading state information... Done\n",
            "The following additional packages will be installed:\n",
            "  erlang-asn1 erlang-base erlang-crypto erlang-eldap erlang-ftp erlang-inets\n",
            "  erlang-mnesia erlang-os-mon erlang-parsetools erlang-public-key\n",
            "  erlang-runtime-tools erlang-snmp erlang-ssl erlang-syntax-tools erlang-tftp\n",
            "  erlang-tools erlang-xmerl libsctp1 libwrap0 logrotate socat\n",
            "Suggested packages:\n",
            "  erlang erlang-manpages erlang-doc lksctp-tools bsd-mailx | mailx\n",
            "The following NEW packages will be installed:\n",
            "  erlang-asn1 erlang-base erlang-crypto erlang-eldap erlang-ftp erlang-inets\n",
            "  erlang-mnesia erlang-os-mon erlang-parsetools erlang-public-key\n",
            "  erlang-runtime-tools erlang-snmp erlang-ssl erlang-syntax-tools erlang-tftp\n",
            "  erlang-tools erlang-xmerl libsctp1 libwrap0 logrotate rabbitmq-server socat\n",
            "0 upgraded, 22 newly installed, 0 to remove and 24 not upgraded.\n",
            "Need to get 35.4 MB of archives.\n",
            "After this operation, 56.3 MB of additional disk space will be used.\n",
            "Get:1 http://archive.ubuntu.com/ubuntu jammy-updates/main amd64 logrotate amd64 3.19.0-1ubuntu1.1 [54.3 kB]\n",
            "Get:2 http://archive.ubuntu.com/ubuntu jammy-updates/main amd64 erlang-base amd64 1:24.2.1+dfsg-1ubuntu0.1 [9,829 kB]\n",
            "Get:3 http://archive.ubuntu.com/ubuntu jammy-updates/main amd64 erlang-asn1 amd64 1:24.2.1+dfsg-1ubuntu0.1 [911 kB]\n",
            "Get:4 http://archive.ubuntu.com/ubuntu jammy-updates/main amd64 erlang-crypto amd64 1:24.2.1+dfsg-1ubuntu0.1 [157 kB]\n",
            "Get:5 http://archive.ubuntu.com/ubuntu jammy-updates/main amd64 erlang-public-key amd64 1:24.2.1+dfsg-1ubuntu0.1 [784 kB]\n",
            "Get:6 http://archive.ubuntu.com/ubuntu jammy-updates/main amd64 erlang-mnesia amd64 1:24.2.1+dfsg-1ubuntu0.1 [891 kB]\n",
            "Get:7 http://archive.ubuntu.com/ubuntu jammy-updates/main amd64 erlang-runtime-tools amd64 1:24.2.1+dfsg-1ubuntu0.1 [227 kB]\n",
            "Get:8 http://archive.ubuntu.com/ubuntu jammy-updates/main amd64 erlang-ssl amd64 1:24.2.1+dfsg-1ubuntu0.1 [1,585 kB]\n",
            "Get:9 http://archive.ubuntu.com/ubuntu jammy-updates/main amd64 erlang-eldap amd64 1:24.2.1+dfsg-1ubuntu0.1 [125 kB]\n",
            "Get:10 http://archive.ubuntu.com/ubuntu jammy-updates/main amd64 erlang-ftp amd64 1:24.2.1+dfsg-1ubuntu0.1 [84.4 kB]\n",
            "Get:11 http://archive.ubuntu.com/ubuntu jammy-updates/main amd64 erlang-tftp amd64 1:24.2.1+dfsg-1ubuntu0.1 [103 kB]\n",
            "Get:12 http://archive.ubuntu.com/ubuntu jammy-updates/main amd64 erlang-inets amd64 1:24.2.1+dfsg-1ubuntu0.1 [627 kB]\n",
            "Get:13 http://archive.ubuntu.com/ubuntu jammy-updates/main amd64 erlang-snmp amd64 1:24.2.1+dfsg-1ubuntu0.1 [1,894 kB]\n",
            "Get:14 http://archive.ubuntu.com/ubuntu jammy-updates/main amd64 erlang-os-mon amd64 1:24.2.1+dfsg-1ubuntu0.1 [91.1 kB]\n",
            "Get:15 http://archive.ubuntu.com/ubuntu jammy-updates/main amd64 erlang-parsetools amd64 1:24.2.1+dfsg-1ubuntu0.1 [194 kB]\n",
            "Get:16 http://archive.ubuntu.com/ubuntu jammy-updates/main amd64 erlang-syntax-tools amd64 1:24.2.1+dfsg-1ubuntu0.1 [303 kB]\n",
            "Get:17 http://archive.ubuntu.com/ubuntu jammy-updates/main amd64 erlang-tools amd64 1:24.2.1+dfsg-1ubuntu0.1 [635 kB]\n",
            "Get:18 http://archive.ubuntu.com/ubuntu jammy-updates/main amd64 erlang-xmerl amd64 1:24.2.1+dfsg-1ubuntu0.1 [1,383 kB]\n",
            "Get:19 http://archive.ubuntu.com/ubuntu jammy/main amd64 libsctp1 amd64 1.0.19+dfsg-1build1 [9,370 B]\n",
            "Get:20 http://archive.ubuntu.com/ubuntu jammy/main amd64 libwrap0 amd64 7.6.q-31build2 [47.9 kB]\n",
            "Get:21 http://archive.ubuntu.com/ubuntu jammy/main amd64 socat amd64 1.7.4.1-3ubuntu4 [349 kB]\n",
            "Get:22 http://archive.ubuntu.com/ubuntu jammy-updates/main amd64 rabbitmq-server all 3.9.13-1ubuntu0.22.04.2 [15.2 MB]\n",
            "Fetched 35.4 MB in 8s (4,225 kB/s)\n",
            "debconf: unable to initialize frontend: Dialog\n",
            "debconf: (No usable dialog-like program is installed, so the dialog based frontend cannot be used. at /usr/share/perl5/Debconf/FrontEnd/Dialog.pm line 78, <> line 22.)\n",
            "debconf: falling back to frontend: Readline\n",
            "debconf: unable to initialize frontend: Readline\n",
            "debconf: (This frontend requires a controlling tty.)\n",
            "debconf: falling back to frontend: Teletype\n",
            "dpkg-preconfigure: unable to re-open stdin: \n",
            "Selecting previously unselected package logrotate.\n",
            "(Reading database ... 122406 files and directories currently installed.)\n",
            "Preparing to unpack .../00-logrotate_3.19.0-1ubuntu1.1_amd64.deb ...\n",
            "Unpacking logrotate (3.19.0-1ubuntu1.1) ...\n",
            "Selecting previously unselected package erlang-base.\n",
            "Preparing to unpack .../01-erlang-base_1%3a24.2.1+dfsg-1ubuntu0.1_amd64.deb ...\n",
            "Unpacking erlang-base (1:24.2.1+dfsg-1ubuntu0.1) ...\n",
            "Selecting previously unselected package erlang-asn1.\n",
            "Preparing to unpack .../02-erlang-asn1_1%3a24.2.1+dfsg-1ubuntu0.1_amd64.deb ...\n",
            "Unpacking erlang-asn1 (1:24.2.1+dfsg-1ubuntu0.1) ...\n",
            "Selecting previously unselected package erlang-crypto.\n",
            "Preparing to unpack .../03-erlang-crypto_1%3a24.2.1+dfsg-1ubuntu0.1_amd64.deb ...\n",
            "Unpacking erlang-crypto (1:24.2.1+dfsg-1ubuntu0.1) ...\n",
            "Selecting previously unselected package erlang-public-key.\n",
            "Preparing to unpack .../04-erlang-public-key_1%3a24.2.1+dfsg-1ubuntu0.1_amd64.deb ...\n",
            "Unpacking erlang-public-key (1:24.2.1+dfsg-1ubuntu0.1) ...\n",
            "Selecting previously unselected package erlang-mnesia.\n",
            "Preparing to unpack .../05-erlang-mnesia_1%3a24.2.1+dfsg-1ubuntu0.1_amd64.deb ...\n",
            "Unpacking erlang-mnesia (1:24.2.1+dfsg-1ubuntu0.1) ...\n",
            "Selecting previously unselected package erlang-runtime-tools.\n",
            "Preparing to unpack .../06-erlang-runtime-tools_1%3a24.2.1+dfsg-1ubuntu0.1_amd64.deb ...\n",
            "Unpacking erlang-runtime-tools (1:24.2.1+dfsg-1ubuntu0.1) ...\n",
            "Selecting previously unselected package erlang-ssl.\n",
            "Preparing to unpack .../07-erlang-ssl_1%3a24.2.1+dfsg-1ubuntu0.1_amd64.deb ...\n",
            "Unpacking erlang-ssl (1:24.2.1+dfsg-1ubuntu0.1) ...\n",
            "Selecting previously unselected package erlang-eldap.\n",
            "Preparing to unpack .../08-erlang-eldap_1%3a24.2.1+dfsg-1ubuntu0.1_amd64.deb ...\n",
            "Unpacking erlang-eldap (1:24.2.1+dfsg-1ubuntu0.1) ...\n",
            "Selecting previously unselected package erlang-ftp.\n",
            "Preparing to unpack .../09-erlang-ftp_1%3a24.2.1+dfsg-1ubuntu0.1_amd64.deb ...\n",
            "Unpacking erlang-ftp (1:24.2.1+dfsg-1ubuntu0.1) ...\n",
            "Selecting previously unselected package erlang-tftp.\n",
            "Preparing to unpack .../10-erlang-tftp_1%3a24.2.1+dfsg-1ubuntu0.1_amd64.deb ...\n",
            "Unpacking erlang-tftp (1:24.2.1+dfsg-1ubuntu0.1) ...\n",
            "Selecting previously unselected package erlang-inets.\n",
            "Preparing to unpack .../11-erlang-inets_1%3a24.2.1+dfsg-1ubuntu0.1_amd64.deb ...\n",
            "Unpacking erlang-inets (1:24.2.1+dfsg-1ubuntu0.1) ...\n",
            "Selecting previously unselected package erlang-snmp.\n",
            "Preparing to unpack .../12-erlang-snmp_1%3a24.2.1+dfsg-1ubuntu0.1_amd64.deb ...\n",
            "Unpacking erlang-snmp (1:24.2.1+dfsg-1ubuntu0.1) ...\n",
            "Selecting previously unselected package erlang-os-mon.\n",
            "Preparing to unpack .../13-erlang-os-mon_1%3a24.2.1+dfsg-1ubuntu0.1_amd64.deb ...\n",
            "Unpacking erlang-os-mon (1:24.2.1+dfsg-1ubuntu0.1) ...\n",
            "Selecting previously unselected package erlang-parsetools.\n",
            "Preparing to unpack .../14-erlang-parsetools_1%3a24.2.1+dfsg-1ubuntu0.1_amd64.deb ...\n",
            "Unpacking erlang-parsetools (1:24.2.1+dfsg-1ubuntu0.1) ...\n",
            "Selecting previously unselected package erlang-syntax-tools.\n",
            "Preparing to unpack .../15-erlang-syntax-tools_1%3a24.2.1+dfsg-1ubuntu0.1_amd64.deb ...\n",
            "Unpacking erlang-syntax-tools (1:24.2.1+dfsg-1ubuntu0.1) ...\n",
            "Selecting previously unselected package erlang-tools.\n",
            "Preparing to unpack .../16-erlang-tools_1%3a24.2.1+dfsg-1ubuntu0.1_amd64.deb ...\n",
            "Unpacking erlang-tools (1:24.2.1+dfsg-1ubuntu0.1) ...\n",
            "Selecting previously unselected package erlang-xmerl.\n",
            "Preparing to unpack .../17-erlang-xmerl_1%3a24.2.1+dfsg-1ubuntu0.1_amd64.deb ...\n",
            "Unpacking erlang-xmerl (1:24.2.1+dfsg-1ubuntu0.1) ...\n",
            "Selecting previously unselected package libsctp1:amd64.\n",
            "Preparing to unpack .../18-libsctp1_1.0.19+dfsg-1build1_amd64.deb ...\n",
            "Unpacking libsctp1:amd64 (1.0.19+dfsg-1build1) ...\n",
            "Selecting previously unselected package libwrap0:amd64.\n",
            "Preparing to unpack .../19-libwrap0_7.6.q-31build2_amd64.deb ...\n",
            "Unpacking libwrap0:amd64 (7.6.q-31build2) ...\n",
            "Selecting previously unselected package socat.\n",
            "Preparing to unpack .../20-socat_1.7.4.1-3ubuntu4_amd64.deb ...\n",
            "Unpacking socat (1.7.4.1-3ubuntu4) ...\n",
            "Selecting previously unselected package rabbitmq-server.\n",
            "Preparing to unpack .../21-rabbitmq-server_3.9.13-1ubuntu0.22.04.2_all.deb ...\n",
            "Unpacking rabbitmq-server (3.9.13-1ubuntu0.22.04.2) ...\n",
            "Setting up logrotate (3.19.0-1ubuntu1.1) ...\n",
            "Created symlink /etc/systemd/system/timers.target.wants/logrotate.timer → /lib/systemd/system/logrotate.timer.\n",
            "Setting up erlang-base (1:24.2.1+dfsg-1ubuntu0.1) ...\n",
            "Searching for services which depend on erlang and should be started... none found.\n",
            "Setting up erlang-xmerl (1:24.2.1+dfsg-1ubuntu0.1) ...\n",
            "Setting up erlang-syntax-tools (1:24.2.1+dfsg-1ubuntu0.1) ...\n",
            "Setting up erlang-parsetools (1:24.2.1+dfsg-1ubuntu0.1) ...\n",
            "Setting up libwrap0:amd64 (7.6.q-31build2) ...\n",
            "Setting up socat (1.7.4.1-3ubuntu4) ...\n",
            "Setting up erlang-asn1 (1:24.2.1+dfsg-1ubuntu0.1) ...\n",
            "Setting up erlang-tftp (1:24.2.1+dfsg-1ubuntu0.1) ...\n",
            "Setting up libsctp1:amd64 (1.0.19+dfsg-1build1) ...\n",
            "Setting up erlang-mnesia (1:24.2.1+dfsg-1ubuntu0.1) ...\n",
            "Setting up erlang-crypto (1:24.2.1+dfsg-1ubuntu0.1) ...\n",
            "Setting up erlang-runtime-tools (1:24.2.1+dfsg-1ubuntu0.1) ...\n",
            "Setting up erlang-tools (1:24.2.1+dfsg-1ubuntu0.1) ...\n",
            "Setting up erlang-snmp (1:24.2.1+dfsg-1ubuntu0.1) ...\n",
            "Setting up erlang-public-key (1:24.2.1+dfsg-1ubuntu0.1) ...\n",
            "Setting up erlang-ssl (1:24.2.1+dfsg-1ubuntu0.1) ...\n",
            "Setting up erlang-os-mon (1:24.2.1+dfsg-1ubuntu0.1) ...\n",
            "Setting up erlang-eldap (1:24.2.1+dfsg-1ubuntu0.1) ...\n",
            "Setting up erlang-ftp (1:24.2.1+dfsg-1ubuntu0.1) ...\n",
            "Setting up erlang-inets (1:24.2.1+dfsg-1ubuntu0.1) ...\n",
            "Setting up rabbitmq-server (3.9.13-1ubuntu0.22.04.2) ...\n",
            "Adding group `rabbitmq' (GID 109) ...\n",
            "Done.\n",
            "Adding system user `rabbitmq' (UID 105) ...\n",
            "Adding new user `rabbitmq' (UID 105) with group `rabbitmq' ...\n",
            "Not creating home directory `/var/lib/rabbitmq'.\n",
            "Created symlink /etc/systemd/system/multi-user.target.wants/rabbitmq-server.service → /lib/systemd/system/rabbitmq-server.service.\n",
            "invoke-rc.d: could not determine current runlevel\n",
            "invoke-rc.d: policy-rc.d denied execution of start.\n",
            "Processing triggers for man-db (2.10.2-1) ...\n",
            "Processing triggers for libc-bin (2.35-0ubuntu3.4) ...\n",
            "/sbin/ldconfig.real: /usr/local/lib/libtbbbind.so.3 is not a symbolic link\n",
            "\n",
            "/sbin/ldconfig.real: /usr/local/lib/libtbbmalloc_proxy.so.2 is not a symbolic link\n",
            "\n",
            "/sbin/ldconfig.real: /usr/local/lib/libtbbbind_2_5.so.3 is not a symbolic link\n",
            "\n",
            "/sbin/ldconfig.real: /usr/local/lib/libtbbbind_2_0.so.3 is not a symbolic link\n",
            "\n",
            "/sbin/ldconfig.real: /usr/local/lib/libtbb.so.12 is not a symbolic link\n",
            "\n",
            "/sbin/ldconfig.real: /usr/local/lib/libtbbmalloc.so.2 is not a symbolic link\n",
            "\n"
          ]
        }
      ]
    },
    {
      "cell_type": "markdown",
      "source": [
        "**Start rabbitmq server**"
      ],
      "metadata": {
        "id": "bTk5q4NxmzCO"
      }
    },
    {
      "cell_type": "code",
      "source": [
        "!sudo service rabbitmq-server restart"
      ],
      "metadata": {
        "colab": {
          "base_uri": "https://localhost:8080/"
        },
        "id": "-5L7A0Pthb0a",
        "outputId": "49bbcca3-57d2-4618-c338-2ae12593dba3"
      },
      "execution_count": null,
      "outputs": [
        {
          "output_type": "stream",
          "name": "stdout",
          "text": [
            " * Restarting RabbitMQ Messaging Server rabbitmq-server\n",
            "   ...done.\n"
          ]
        }
      ]
    },
    {
      "cell_type": "markdown",
      "source": [
        "**check plugins list (if required)**"
      ],
      "metadata": {
        "id": "gQa_8I5GnJZC"
      }
    },
    {
      "cell_type": "code",
      "source": [
        "!rabbitmq-plugins list"
      ],
      "metadata": {
        "colab": {
          "base_uri": "https://localhost:8080/"
        },
        "id": "_B6ivopXi-xz",
        "outputId": "0a6d6ea6-557b-4464-8b9f-01f508d214fa"
      },
      "execution_count": null,
      "outputs": [
        {
          "output_type": "stream",
          "name": "stdout",
          "text": [
            "Listing plugins with pattern \".*\" ...\n",
            " Configured: E = explicitly enabled; e = implicitly enabled\n",
            " | Status: * = running on rabbit@905cfacc9708\n",
            " |/\n",
            "[  ] rabbitmq_amqp1_0                  3.9.13\n",
            "[  ] rabbitmq_auth_backend_cache       3.9.13\n",
            "[  ] rabbitmq_auth_backend_http        3.9.13\n",
            "[  ] rabbitmq_auth_backend_ldap        3.9.13\n",
            "[  ] rabbitmq_auth_backend_oauth2      3.9.13\n",
            "[  ] rabbitmq_auth_mechanism_ssl       3.9.13\n",
            "[  ] rabbitmq_consistent_hash_exchange 3.9.13\n",
            "[  ] rabbitmq_event_exchange           3.9.13\n",
            "[  ] rabbitmq_federation               3.9.13\n",
            "[  ] rabbitmq_federation_management    3.9.13\n",
            "[  ] rabbitmq_jms_topic_exchange       3.9.13\n",
            "[  ] rabbitmq_management               3.9.13\n",
            "[  ] rabbitmq_management_agent         3.9.13\n",
            "[  ] rabbitmq_mqtt                     3.9.13\n",
            "[  ] rabbitmq_peer_discovery_aws       3.9.13\n",
            "[  ] rabbitmq_peer_discovery_common    3.9.13\n",
            "[  ] rabbitmq_peer_discovery_consul    3.9.13\n",
            "[  ] rabbitmq_peer_discovery_etcd      3.9.13\n",
            "[  ] rabbitmq_peer_discovery_k8s       3.9.13\n",
            "[  ] rabbitmq_prometheus               3.9.13\n",
            "[  ] rabbitmq_random_exchange          3.9.13\n",
            "[  ] rabbitmq_recent_history_exchange  3.9.13\n",
            "[  ] rabbitmq_sharding                 3.9.13\n",
            "[  ] rabbitmq_shovel                   3.9.13\n",
            "[  ] rabbitmq_shovel_management        3.9.13\n",
            "[  ] rabbitmq_stomp                    3.9.13\n",
            "[  ] rabbitmq_stream                   3.9.13\n",
            "[  ] rabbitmq_stream_management        3.9.13\n",
            "[  ] rabbitmq_top                      3.9.13\n",
            "[  ] rabbitmq_tracing                  3.9.13\n",
            "[  ] rabbitmq_trust_store              3.9.13\n",
            "[  ] rabbitmq_web_dispatch             3.9.13\n",
            "[  ] rabbitmq_web_mqtt                 3.9.13\n",
            "[  ] rabbitmq_web_mqtt_examples        3.9.13\n",
            "[  ] rabbitmq_web_stomp                3.9.13\n",
            "[  ] rabbitmq_web_stomp_examples       3.9.13\n"
          ]
        }
      ]
    },
    {
      "cell_type": "markdown",
      "source": [
        "**Enable  rabbitmq_management (if disabled)**"
      ],
      "metadata": {
        "id": "e81lYfctnNV8"
      }
    },
    {
      "cell_type": "code",
      "source": [
        "!rabbitmq-plugins enable rabbitmq_management"
      ],
      "metadata": {
        "colab": {
          "base_uri": "https://localhost:8080/"
        },
        "id": "UDEEngZMjJiU",
        "outputId": "960b7846-4c67-4613-b556-359533fc8a90"
      },
      "execution_count": null,
      "outputs": [
        {
          "output_type": "stream",
          "name": "stdout",
          "text": [
            "Enabling plugins on node rabbit@905cfacc9708:\n",
            "rabbitmq_management\n",
            "The following plugins have been configured:\n",
            "  rabbitmq_management\n",
            "  rabbitmq_management_agent\n",
            "  rabbitmq_web_dispatch\n",
            "Applying plugin configuration to rabbit@905cfacc9708...\n",
            "The following plugins have been enabled:\n",
            "  rabbitmq_management\n",
            "  rabbitmq_management_agent\n",
            "  rabbitmq_web_dispatch\n",
            "\n",
            "started 3 plugins.\n"
          ]
        }
      ]
    },
    {
      "cell_type": "markdown",
      "source": [
        "**On sender side**"
      ],
      "metadata": {
        "id": "FV5KufDEmKmb"
      }
    },
    {
      "cell_type": "code",
      "source": [
        "import pika\n",
        "import time\n",
        "\n",
        "# Function to read the content of a file\n",
        "def read_file_content(file_path):\n",
        "    with open(file_path, 'r') as file:\n",
        "        content = file.read()\n",
        "    return content\n",
        "\n",
        "# Specify the path to the file you want to read\n",
        "file_path = 'data.json'\n",
        "\n",
        "# Record the start time\n",
        "start_time = time.time()\n",
        "\n",
        "# Create a connection to RabbitMQ server\n",
        "connection = pika.BlockingConnection(pika.ConnectionParameters('localhost'))\n",
        "channel = connection.channel()\n",
        "\n",
        "# Declare a queue\n",
        "channel.queue_declare(queue='queue1')\n",
        "\n",
        "# Read the content of the file\n",
        "file_content = read_file_content(file_path)\n",
        "\n",
        "# Publish the file content as a message to the queue\n",
        "channel.basic_publish(exchange='', routing_key='queue1', body=file_content)\n",
        "\n",
        "# Record the end time\n",
        "end_time = time.time()\n",
        "\n",
        "# Calculate the computation time\n",
        "computation_time = end_time - start_time\n",
        "#print(body)\n",
        "print(f\"Message published from file content in {computation_time:.6f} seconds\")\n",
        "\n",
        "\n",
        "# Close the connection\n",
        "connection.close()\n"
      ],
      "metadata": {
        "colab": {
          "base_uri": "https://localhost:8080/"
        },
        "id": "OKvoAP5DcK8b",
        "outputId": "767b03b8-1008-4981-daa1-b9dffab3eb8f"
      },
      "execution_count": null,
      "outputs": [
        {
          "output_type": "stream",
          "name": "stdout",
          "text": [
            "Message published from file content in 0.020598 seconds\n"
          ]
        }
      ]
    },
    {
      "cell_type": "markdown",
      "source": [
        "**On reciever side**"
      ],
      "metadata": {
        "id": "wXl-wyHWnhiQ"
      }
    },
    {
      "cell_type": "code",
      "source": [
        "import pika\n",
        "\n",
        "# Record the start time\n",
        "start_time = time.time()\n",
        "\n",
        "\n",
        "# Create a connection to RabbitMQ server\n",
        "connection = pika.BlockingConnection(pika.ConnectionParameters('localhost'))\n",
        "channel = connection.channel()\n",
        "\n",
        "# Declare the same queue\n",
        "channel.queue_declare(queue='queue1')\n",
        "\n",
        "# Define a callback function for handling received messages\n",
        "def callback(ch, method, properties, body):\n",
        "    print(f\"Received message: {body}\")\n",
        "    print(f\"Message received in {computation_time:.6f} seconds\")\n",
        "\n",
        "# Set up the consumer to use the callback function\n",
        "channel.basic_consume(queue='queue1', on_message_callback=callback, auto_ack=True)\n",
        "\n",
        "# Record the end time\n",
        "end_time = time.time()\n",
        "\n",
        "\n",
        "# Calculate the computation time\n",
        "computation_time = end_time - start_time\n",
        "#print(f\"Message received in {computation_time:.6f} seconds\")\n",
        "\n",
        "# Start consuming messages\n",
        "print('Waiting for messages. To exit, press CTRL+C')\n",
        "channel.start_consuming()\n",
        "\n",
        "\n"
      ],
      "metadata": {
        "colab": {
          "base_uri": "https://localhost:8080/",
          "height": 470
        },
        "id": "XGceYR_kkZdi",
        "outputId": "4ef24ee7-fbb6-4b95-a2db-99223798a7fc"
      },
      "execution_count": null,
      "outputs": [
        {
          "output_type": "stream",
          "name": "stdout",
          "text": [
            "Waiting for messages. To exit, press CTRL+C\n",
            "Received message: b'{\\n  \"type\": \"indicator\",\\n  \"spec_version\": \"2.1\",\\n  \"id\": \"indicator--4cddc150-e2c4-4695-9537-ad1ec7c992a6\",\\n  \"created\": \"2024-01-05T07:45:46.564075Z\",\\n  \"modified\": \"2024-01-05T07:45:46.564075Z\",\\n  \"name\": \"Malicious File Indicator\",\\n  \"pattern\": \"[file:hashes.md5 = \\'d41d8cd98f00b204e9800998ecf8427e\\']\",\\n  \"pattern_type\": \"stix\",\\n  \"pattern_version\": \"2.1\",\\n  \"valid_from\": \"2024-01-05T07:45:46.564075Z\",\\n  \"labels\": [\\n    \"malicious-indicator\"\\n  ],\\n  \"ioc_severity\": \"\\\\\"<tenseal.tensors.ckkstensor.CKKSTensor object at 0x7eb6484d9480>\\\\\"\",\\n  \"risk_level\": \"\\\\\"<tenseal.tensors.ckkstensor.CKKSTensor object at 0x7eb648498e80>\\\\\"\"\\n}'\n",
            "Message received in 0.015556 seconds\n"
          ]
        },
        {
          "output_type": "error",
          "ename": "KeyboardInterrupt",
          "evalue": "ignored",
          "traceback": [
            "\u001b[0;31m---------------------------------------------------------------------------\u001b[0m",
            "\u001b[0;31mKeyboardInterrupt\u001b[0m                         Traceback (most recent call last)",
            "\u001b[0;32m<ipython-input-116-b17330015c80>\u001b[0m in \u001b[0;36m<cell line: 32>\u001b[0;34m()\u001b[0m\n\u001b[1;32m     30\u001b[0m \u001b[0;31m# Start consuming messages\u001b[0m\u001b[0;34m\u001b[0m\u001b[0;34m\u001b[0m\u001b[0m\n\u001b[1;32m     31\u001b[0m \u001b[0mprint\u001b[0m\u001b[0;34m(\u001b[0m\u001b[0;34m'Waiting for messages. To exit, press CTRL+C'\u001b[0m\u001b[0;34m)\u001b[0m\u001b[0;34m\u001b[0m\u001b[0;34m\u001b[0m\u001b[0m\n\u001b[0;32m---> 32\u001b[0;31m \u001b[0mchannel\u001b[0m\u001b[0;34m.\u001b[0m\u001b[0mstart_consuming\u001b[0m\u001b[0;34m(\u001b[0m\u001b[0;34m)\u001b[0m\u001b[0;34m\u001b[0m\u001b[0;34m\u001b[0m\u001b[0m\n\u001b[0m\u001b[1;32m     33\u001b[0m \u001b[0;34m\u001b[0m\u001b[0m\n\u001b[1;32m     34\u001b[0m \u001b[0;34m\u001b[0m\u001b[0m\n",
            "\u001b[0;32m/usr/local/lib/python3.10/dist-packages/pika/adapters/blocking_connection.py\u001b[0m in \u001b[0;36mstart_consuming\u001b[0;34m(self)\u001b[0m\n\u001b[1;32m   1881\u001b[0m         \u001b[0;32mwhile\u001b[0m \u001b[0mself\u001b[0m\u001b[0;34m.\u001b[0m\u001b[0m_consumer_infos\u001b[0m\u001b[0;34m:\u001b[0m\u001b[0;34m\u001b[0m\u001b[0;34m\u001b[0m\u001b[0m\n\u001b[1;32m   1882\u001b[0m             \u001b[0;31m# This will raise ChannelClosed if channel is closed by broker\u001b[0m\u001b[0;34m\u001b[0m\u001b[0;34m\u001b[0m\u001b[0m\n\u001b[0;32m-> 1883\u001b[0;31m             \u001b[0mself\u001b[0m\u001b[0;34m.\u001b[0m\u001b[0m_process_data_events\u001b[0m\u001b[0;34m(\u001b[0m\u001b[0mtime_limit\u001b[0m\u001b[0;34m=\u001b[0m\u001b[0;32mNone\u001b[0m\u001b[0;34m)\u001b[0m\u001b[0;34m\u001b[0m\u001b[0;34m\u001b[0m\u001b[0m\n\u001b[0m\u001b[1;32m   1884\u001b[0m \u001b[0;34m\u001b[0m\u001b[0m\n\u001b[1;32m   1885\u001b[0m     \u001b[0;32mdef\u001b[0m \u001b[0mstop_consuming\u001b[0m\u001b[0;34m(\u001b[0m\u001b[0mself\u001b[0m\u001b[0;34m,\u001b[0m \u001b[0mconsumer_tag\u001b[0m\u001b[0;34m=\u001b[0m\u001b[0;32mNone\u001b[0m\u001b[0;34m)\u001b[0m\u001b[0;34m:\u001b[0m\u001b[0;34m\u001b[0m\u001b[0;34m\u001b[0m\u001b[0m\n",
            "\u001b[0;32m/usr/local/lib/python3.10/dist-packages/pika/adapters/blocking_connection.py\u001b[0m in \u001b[0;36m_process_data_events\u001b[0;34m(self, time_limit)\u001b[0m\n\u001b[1;32m   2042\u001b[0m \u001b[0;34m\u001b[0m\u001b[0m\n\u001b[1;32m   2043\u001b[0m         \"\"\"\n\u001b[0;32m-> 2044\u001b[0;31m         \u001b[0mself\u001b[0m\u001b[0;34m.\u001b[0m\u001b[0mconnection\u001b[0m\u001b[0;34m.\u001b[0m\u001b[0mprocess_data_events\u001b[0m\u001b[0;34m(\u001b[0m\u001b[0mtime_limit\u001b[0m\u001b[0;34m=\u001b[0m\u001b[0mtime_limit\u001b[0m\u001b[0;34m)\u001b[0m\u001b[0;34m\u001b[0m\u001b[0;34m\u001b[0m\u001b[0m\n\u001b[0m\u001b[1;32m   2045\u001b[0m         if self.is_closed and isinstance(self._closing_reason,\n\u001b[1;32m   2046\u001b[0m                                          exceptions.ChannelClosedByBroker):\n",
            "\u001b[0;32m/usr/local/lib/python3.10/dist-packages/pika/adapters/blocking_connection.py\u001b[0m in \u001b[0;36mprocess_data_events\u001b[0;34m(self, time_limit)\u001b[0m\n\u001b[1;32m    840\u001b[0m                                               self._ready_events))\n\u001b[1;32m    841\u001b[0m             \u001b[0;32mif\u001b[0m \u001b[0mtime_limit\u001b[0m \u001b[0;32mis\u001b[0m \u001b[0;32mNone\u001b[0m\u001b[0;34m:\u001b[0m\u001b[0;34m\u001b[0m\u001b[0;34m\u001b[0m\u001b[0m\n\u001b[0;32m--> 842\u001b[0;31m                 \u001b[0mself\u001b[0m\u001b[0;34m.\u001b[0m\u001b[0m_flush_output\u001b[0m\u001b[0;34m(\u001b[0m\u001b[0mcommon_terminator\u001b[0m\u001b[0;34m)\u001b[0m\u001b[0;34m\u001b[0m\u001b[0;34m\u001b[0m\u001b[0m\n\u001b[0m\u001b[1;32m    843\u001b[0m             \u001b[0;32melse\u001b[0m\u001b[0;34m:\u001b[0m\u001b[0;34m\u001b[0m\u001b[0;34m\u001b[0m\u001b[0m\n\u001b[1;32m    844\u001b[0m                 \u001b[0;32mwith\u001b[0m \u001b[0m_IoloopTimerContext\u001b[0m\u001b[0;34m(\u001b[0m\u001b[0mtime_limit\u001b[0m\u001b[0;34m,\u001b[0m \u001b[0mself\u001b[0m\u001b[0;34m.\u001b[0m\u001b[0m_impl\u001b[0m\u001b[0;34m)\u001b[0m \u001b[0;32mas\u001b[0m \u001b[0mtimer\u001b[0m\u001b[0;34m:\u001b[0m\u001b[0;34m\u001b[0m\u001b[0;34m\u001b[0m\u001b[0m\n",
            "\u001b[0;32m/usr/local/lib/python3.10/dist-packages/pika/adapters/blocking_connection.py\u001b[0m in \u001b[0;36m_flush_output\u001b[0;34m(self, *waiters)\u001b[0m\n\u001b[1;32m    512\u001b[0m         \u001b[0;31m# Process I/O until our completion condition is satisfied\u001b[0m\u001b[0;34m\u001b[0m\u001b[0;34m\u001b[0m\u001b[0m\n\u001b[1;32m    513\u001b[0m         \u001b[0;32mwhile\u001b[0m \u001b[0;32mnot\u001b[0m \u001b[0mis_done\u001b[0m\u001b[0;34m(\u001b[0m\u001b[0;34m)\u001b[0m\u001b[0;34m:\u001b[0m\u001b[0;34m\u001b[0m\u001b[0;34m\u001b[0m\u001b[0m\n\u001b[0;32m--> 514\u001b[0;31m             \u001b[0mself\u001b[0m\u001b[0;34m.\u001b[0m\u001b[0m_impl\u001b[0m\u001b[0;34m.\u001b[0m\u001b[0mioloop\u001b[0m\u001b[0;34m.\u001b[0m\u001b[0mpoll\u001b[0m\u001b[0;34m(\u001b[0m\u001b[0;34m)\u001b[0m\u001b[0;34m\u001b[0m\u001b[0;34m\u001b[0m\u001b[0m\n\u001b[0m\u001b[1;32m    515\u001b[0m             \u001b[0mself\u001b[0m\u001b[0;34m.\u001b[0m\u001b[0m_impl\u001b[0m\u001b[0;34m.\u001b[0m\u001b[0mioloop\u001b[0m\u001b[0;34m.\u001b[0m\u001b[0mprocess_timeouts\u001b[0m\u001b[0;34m(\u001b[0m\u001b[0;34m)\u001b[0m\u001b[0;34m\u001b[0m\u001b[0;34m\u001b[0m\u001b[0m\n\u001b[1;32m    516\u001b[0m \u001b[0;34m\u001b[0m\u001b[0m\n",
            "\u001b[0;32m/usr/local/lib/python3.10/dist-packages/pika/adapters/select_connection.py\u001b[0m in \u001b[0;36mpoll\u001b[0;34m(self)\u001b[0m\n\u001b[1;32m    577\u001b[0m \u001b[0;34m\u001b[0m\u001b[0m\n\u001b[1;32m    578\u001b[0m         \"\"\"\n\u001b[0;32m--> 579\u001b[0;31m         \u001b[0mself\u001b[0m\u001b[0;34m.\u001b[0m\u001b[0m_poller\u001b[0m\u001b[0;34m.\u001b[0m\u001b[0mpoll\u001b[0m\u001b[0;34m(\u001b[0m\u001b[0;34m)\u001b[0m\u001b[0;34m\u001b[0m\u001b[0;34m\u001b[0m\u001b[0m\n\u001b[0m\u001b[1;32m    580\u001b[0m \u001b[0;34m\u001b[0m\u001b[0m\n\u001b[1;32m    581\u001b[0m \u001b[0;34m\u001b[0m\u001b[0m\n",
            "\u001b[0;32m/usr/local/lib/python3.10/dist-packages/pika/adapters/select_connection.py\u001b[0m in \u001b[0;36mpoll\u001b[0;34m(self)\u001b[0m\n\u001b[1;32m   1182\u001b[0m         \u001b[0;32mwhile\u001b[0m \u001b[0;32mTrue\u001b[0m\u001b[0;34m:\u001b[0m\u001b[0;34m\u001b[0m\u001b[0;34m\u001b[0m\u001b[0m\n\u001b[1;32m   1183\u001b[0m             \u001b[0;32mtry\u001b[0m\u001b[0;34m:\u001b[0m\u001b[0;34m\u001b[0m\u001b[0;34m\u001b[0m\u001b[0m\n\u001b[0;32m-> 1184\u001b[0;31m                 \u001b[0mevents\u001b[0m \u001b[0;34m=\u001b[0m \u001b[0mself\u001b[0m\u001b[0;34m.\u001b[0m\u001b[0m_poll\u001b[0m\u001b[0;34m.\u001b[0m\u001b[0mpoll\u001b[0m\u001b[0;34m(\u001b[0m\u001b[0mself\u001b[0m\u001b[0;34m.\u001b[0m\u001b[0m_get_max_wait\u001b[0m\u001b[0;34m(\u001b[0m\u001b[0;34m)\u001b[0m\u001b[0;34m)\u001b[0m\u001b[0;34m\u001b[0m\u001b[0;34m\u001b[0m\u001b[0m\n\u001b[0m\u001b[1;32m   1185\u001b[0m                 \u001b[0;32mbreak\u001b[0m\u001b[0;34m\u001b[0m\u001b[0;34m\u001b[0m\u001b[0m\n\u001b[1;32m   1186\u001b[0m             \u001b[0;32mexcept\u001b[0m \u001b[0m_SELECT_ERRORS\u001b[0m \u001b[0;32mas\u001b[0m \u001b[0merror\u001b[0m\u001b[0;34m:\u001b[0m\u001b[0;34m\u001b[0m\u001b[0;34m\u001b[0m\u001b[0m\n",
            "\u001b[0;31mKeyboardInterrupt\u001b[0m: "
          ]
        }
      ]
    },
    {
      "cell_type": "code",
      "source": [
        "import pika\n",
        "import time\n",
        "\n",
        "# Function to read the content of a file\n",
        "def read_file_content(file_path):\n",
        "    with open(file_path, 'r') as file:\n",
        "        content = file.read()\n",
        "    return content\n",
        "\n",
        "# Specify the path to the file you want to read\n",
        "file_path = '/content/data.json'\n",
        "\n",
        "# Number of messages to send\n",
        "num_messages = 10\n",
        "\n",
        "# Target send rate (messages per second)\n",
        "target_send_rate = 5\n",
        "\n",
        "# Calculate the delay between messages to achieve the target send rate\n",
        "delay_between_messages = 1 / target_send_rate\n",
        "\n",
        "# Create a connection to RabbitMQ server\n",
        "connection = pika.BlockingConnection(pika.ConnectionParameters('localhost'))\n",
        "channel = connection.channel()\n",
        "\n",
        "# Declare a queue\n",
        "channel.queue_declare(queue='queue1')\n",
        "\n",
        "# Loop to send messages\n",
        "for i in range(num_messages):\n",
        "    # Read the content of the file\n",
        "    file_content = read_file_content(file_path)\n",
        "\n",
        "    # Publish the file content as a message to the queue\n",
        "    channel.basic_publish(exchange='', routing_key='queue1', body=file_content)\n",
        "\n",
        "    print(f\"Message {i+1} published from file content\")\n",
        "\n",
        "    # Introduce a delay between messages to achieve the target send rate\n",
        "    time.sleep(delay_between_messages)\n",
        "\n",
        "# Close the connection\n",
        "connection.close()\n"
      ],
      "metadata": {
        "colab": {
          "base_uri": "https://localhost:8080/"
        },
        "id": "7ee9v8chGSUc",
        "outputId": "686418d0-19b5-4c5f-d472-d2889fdca1b3"
      },
      "execution_count": null,
      "outputs": [
        {
          "output_type": "stream",
          "name": "stdout",
          "text": [
            "Message 1 published from file content\n",
            "Message 2 published from file content\n",
            "Message 3 published from file content\n",
            "Message 4 published from file content\n",
            "Message 5 published from file content\n",
            "Message 6 published from file content\n",
            "Message 7 published from file content\n",
            "Message 8 published from file content\n",
            "Message 9 published from file content\n",
            "Message 10 published from file content\n"
          ]
        }
      ]
    },
    {
      "cell_type": "code",
      "source": [
        "import pika\n",
        "import time\n",
        "\n",
        "# Function to read the content of a file\n",
        "def read_file_content(file_path):\n",
        "    with open(file_path, 'r') as file:\n",
        "        content = file.read()\n",
        "    return content\n",
        "\n",
        "# Specify the path to the file you want to read\n",
        "file_path = '/content/data.json'\n",
        "\n",
        "# Number of messages to send\n",
        "num_messages = 100\n",
        "\n",
        "# Target send rate (messages per second)\n",
        "target_send_rate = 75\n",
        "\n",
        "# Calculate the delay between messages to achieve the target send rate\n",
        "delay_between_messages = 1 / target_send_rate\n",
        "\n",
        "# Create a connection to RabbitMQ server\n",
        "connection = pika.BlockingConnection(pika.ConnectionParameters('localhost'))\n",
        "channel = connection.channel()\n",
        "\n",
        "# Declare a queue\n",
        "channel.queue_declare(queue='queue1')\n",
        "\n",
        "# Record the start time\n",
        "start_time = time.time()\n",
        "\n",
        "# Loop to send messages\n",
        "for i in range(num_messages):\n",
        "    # Read the content of the file\n",
        "    file_content = read_file_content(file_path)\n",
        "\n",
        "    # Publish the file content as a message to the queue\n",
        "    channel.basic_publish(exchange='', routing_key='queue1', body=file_content)\n",
        "\n",
        "    print(f\"Message {i+1} published from file content\")\n",
        "\n",
        "    # Introduce a delay between messages to achieve the target send rate\n",
        "    time.sleep(delay_between_messages)\n",
        "\n",
        "# Record the end time\n",
        "end_time = time.time()\n",
        "\n",
        "# Calculate the actual send rate\n",
        "actual_send_rate = num_messages / (end_time - start_time)\n",
        "\n",
        "print(f\"Target Send Rate: {target_send_rate} messages per second\")\n",
        "print(f\"Actual Send Rate: {actual_send_rate:.2f} messages per second\")\n",
        "\n",
        "# Close the connection\n",
        "connection.close()\n"
      ],
      "metadata": {
        "colab": {
          "base_uri": "https://localhost:8080/"
        },
        "id": "iM2mGS4_HJPl",
        "outputId": "a337e6cd-8781-48e9-9060-3d681a7d33fc"
      },
      "execution_count": null,
      "outputs": [
        {
          "output_type": "stream",
          "name": "stdout",
          "text": [
            "Message 1 published from file content\n",
            "Message 2 published from file content\n",
            "Message 3 published from file content\n",
            "Message 4 published from file content\n",
            "Message 5 published from file content\n",
            "Message 6 published from file content\n",
            "Message 7 published from file content\n",
            "Message 8 published from file content\n",
            "Message 9 published from file content\n",
            "Message 10 published from file content\n",
            "Message 11 published from file content\n",
            "Message 12 published from file content\n",
            "Message 13 published from file content\n",
            "Message 14 published from file content\n",
            "Message 15 published from file content\n",
            "Message 16 published from file content\n",
            "Message 17 published from file content\n",
            "Message 18 published from file content\n",
            "Message 19 published from file content\n",
            "Message 20 published from file content\n",
            "Message 21 published from file content\n",
            "Message 22 published from file content\n",
            "Message 23 published from file content\n",
            "Message 24 published from file content\n",
            "Message 25 published from file content\n",
            "Message 26 published from file content\n",
            "Message 27 published from file content\n",
            "Message 28 published from file content\n",
            "Message 29 published from file content\n",
            "Message 30 published from file content\n",
            "Message 31 published from file content\n",
            "Message 32 published from file content\n",
            "Message 33 published from file content\n",
            "Message 34 published from file content\n",
            "Message 35 published from file content\n",
            "Message 36 published from file content\n",
            "Message 37 published from file content\n",
            "Message 38 published from file content\n",
            "Message 39 published from file content\n",
            "Message 40 published from file content\n",
            "Message 41 published from file content\n",
            "Message 42 published from file content\n",
            "Message 43 published from file content\n",
            "Message 44 published from file content\n",
            "Message 45 published from file content\n",
            "Message 46 published from file content\n",
            "Message 47 published from file content\n",
            "Message 48 published from file content\n",
            "Message 49 published from file content\n",
            "Message 50 published from file content\n",
            "Message 51 published from file content\n",
            "Message 52 published from file content\n",
            "Message 53 published from file content\n",
            "Message 54 published from file content\n",
            "Message 55 published from file content\n",
            "Message 56 published from file content\n",
            "Message 57 published from file content\n",
            "Message 58 published from file content\n",
            "Message 59 published from file content\n",
            "Message 60 published from file content\n",
            "Message 61 published from file content\n",
            "Message 62 published from file content\n",
            "Message 63 published from file content\n",
            "Message 64 published from file content\n",
            "Message 65 published from file content\n",
            "Message 66 published from file content\n",
            "Message 67 published from file content\n",
            "Message 68 published from file content\n",
            "Message 69 published from file content\n",
            "Message 70 published from file content\n",
            "Message 71 published from file content\n",
            "Message 72 published from file content\n",
            "Message 73 published from file content\n",
            "Message 74 published from file content\n",
            "Message 75 published from file content\n",
            "Message 76 published from file content\n",
            "Message 77 published from file content\n",
            "Message 78 published from file content\n",
            "Message 79 published from file content\n",
            "Message 80 published from file content\n",
            "Message 81 published from file content\n",
            "Message 82 published from file content\n",
            "Message 83 published from file content\n",
            "Message 84 published from file content\n",
            "Message 85 published from file content\n",
            "Message 86 published from file content\n",
            "Message 87 published from file content\n",
            "Message 88 published from file content\n",
            "Message 89 published from file content\n",
            "Message 90 published from file content\n",
            "Message 91 published from file content\n",
            "Message 92 published from file content\n",
            "Message 93 published from file content\n",
            "Message 94 published from file content\n",
            "Message 95 published from file content\n",
            "Message 96 published from file content\n",
            "Message 97 published from file content\n",
            "Message 98 published from file content\n",
            "Message 99 published from file content\n",
            "Message 100 published from file content\n",
            "Target Send Rate: 75 messages per second\n",
            "Actual Send Rate: 69.50 messages per second\n"
          ]
        }
      ]
    }
  ]
}